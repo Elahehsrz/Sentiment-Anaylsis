{
 "cells": [
  {
   "cell_type": "markdown",
   "metadata": {
    "id": "wjWtFYCoR_m3"
   },
   "source": [
    "# Sentiment analysis"
   ]
  },
  {
   "cell_type": "markdown",
   "metadata": {
    "id": "rBZs47_hSas7"
   },
   "source": [
    "## Installing necessary packages"
   ]
  },
  {
   "cell_type": "code",
   "execution_count": 1,
   "metadata": {
    "colab": {
     "base_uri": "https://localhost:8080/"
    },
    "id": "TlQBlxZmSdp2",
    "outputId": "479cbff8-ead7-4754-da6c-afe495dd1d26"
   },
   "outputs": [
    {
     "name": "stdout",
     "output_type": "stream",
     "text": [
      "Requirement already satisfied: transformers in /home/elaheh/.local/lib/python3.8/site-packages (4.18.0)\n",
      "Requirement already satisfied: pyyaml>=5.1 in /usr/lib/python3/dist-packages (from transformers) (5.3.1)\n",
      "Requirement already satisfied: tokenizers!=0.11.3,<0.13,>=0.11.1 in /home/elaheh/.local/lib/python3.8/site-packages (from transformers) (0.12.1)\n",
      "Requirement already satisfied: filelock in /home/elaheh/.local/lib/python3.8/site-packages (from transformers) (3.7.1)\n",
      "Requirement already satisfied: tqdm>=4.27 in /home/elaheh/.local/lib/python3.8/site-packages (from transformers) (4.64.0)\n",
      "Requirement already satisfied: numpy>=1.17 in /home/elaheh/.local/lib/python3.8/site-packages (from transformers) (1.22.3)\n",
      "Requirement already satisfied: regex!=2019.12.17 in /usr/local/lib/python3.8/dist-packages (from transformers) (2022.6.2)\n",
      "Requirement already satisfied: requests in /home/elaheh/.local/lib/python3.8/site-packages (from transformers) (2.27.1)\n",
      "Requirement already satisfied: packaging>=20.0 in /home/elaheh/.local/lib/python3.8/site-packages (from transformers) (21.3)\n",
      "Requirement already satisfied: huggingface-hub<1.0,>=0.1.0 in /home/elaheh/.local/lib/python3.8/site-packages (from transformers) (0.8.1)\n",
      "Requirement already satisfied: sacremoses in /home/elaheh/.local/lib/python3.8/site-packages (from transformers) (0.0.53)\n",
      "Requirement already satisfied: charset-normalizer~=2.0.0; python_version >= \"3\" in /usr/local/lib/python3.8/dist-packages (from requests->transformers) (2.0.12)\n",
      "Requirement already satisfied: urllib3<1.27,>=1.21.1 in /usr/local/lib/python3.8/dist-packages (from requests->transformers) (1.26.9)\n",
      "Requirement already satisfied: certifi>=2017.4.17 in /usr/lib/python3/dist-packages (from requests->transformers) (2019.11.28)\n",
      "Requirement already satisfied: idna<4,>=2.5; python_version >= \"3\" in /usr/lib/python3/dist-packages (from requests->transformers) (2.8)\n",
      "Requirement already satisfied: pyparsing!=3.0.5,>=2.0.2 in /home/elaheh/.local/lib/python3.8/site-packages (from packaging>=20.0->transformers) (3.0.9)\n",
      "Requirement already satisfied: typing-extensions>=3.7.4.3 in /home/elaheh/.local/lib/python3.8/site-packages (from huggingface-hub<1.0,>=0.1.0->transformers) (4.2.0)\n",
      "Requirement already satisfied: click in /home/elaheh/.local/lib/python3.8/site-packages (from sacremoses->transformers) (7.1.2)\n",
      "Requirement already satisfied: joblib in /home/elaheh/.local/lib/python3.8/site-packages (from sacremoses->transformers) (1.1.0)\n",
      "Requirement already satisfied: six in /usr/local/lib/python3.8/dist-packages (from sacremoses->transformers) (1.16.0)\n",
      "Note: you may need to restart the kernel to use updated packages.\n"
     ]
    }
   ],
   "source": [
    "pip install transformers"
   ]
  },
  {
   "cell_type": "code",
   "execution_count": 2,
   "metadata": {
    "colab": {
     "base_uri": "https://localhost:8080/"
    },
    "id": "H4lAB7dJS7EC",
    "outputId": "7426c370-10d3-4f60-f91c-3b1f64048c4d"
   },
   "outputs": [
    {
     "name": "stdout",
     "output_type": "stream",
     "text": [
      "Requirement already satisfied: flair in /home/elaheh/.local/lib/python3.8/site-packages (0.11.3)\n",
      "Requirement already satisfied: scikit-learn>=0.21.3 in /home/elaheh/.local/lib/python3.8/site-packages (from flair) (1.1.1)\n",
      "Requirement already satisfied: more-itertools in /usr/lib/python3/dist-packages (from flair) (4.2.0)\n",
      "Requirement already satisfied: tabulate in /home/elaheh/.local/lib/python3.8/site-packages (from flair) (0.9.0)\n",
      "Requirement already satisfied: gdown==4.4.0 in /home/elaheh/.local/lib/python3.8/site-packages (from flair) (4.4.0)\n",
      "Requirement already satisfied: sentencepiece==0.1.95 in /home/elaheh/.local/lib/python3.8/site-packages (from flair) (0.1.95)\n",
      "Requirement already satisfied: matplotlib>=2.2.3 in /home/elaheh/.local/lib/python3.8/site-packages (from flair) (3.6.0)\n",
      "Requirement already satisfied: sqlitedict>=1.6.0 in /home/elaheh/.local/lib/python3.8/site-packages (from flair) (2.1.0)\n",
      "Requirement already satisfied: regex in /usr/local/lib/python3.8/dist-packages (from flair) (2022.6.2)\n",
      "Requirement already satisfied: torch!=1.8,>=1.5.0 in /home/elaheh/.local/lib/python3.8/site-packages (from flair) (1.11.0)\n",
      "Requirement already satisfied: langdetect in /home/elaheh/.local/lib/python3.8/site-packages (from flair) (1.0.9)\n",
      "Requirement already satisfied: ftfy in /home/elaheh/.local/lib/python3.8/site-packages (from flair) (6.1.1)\n",
      "Requirement already satisfied: pptree in /home/elaheh/.local/lib/python3.8/site-packages (from flair) (3.1)\n",
      "Requirement already satisfied: huggingface-hub in /home/elaheh/.local/lib/python3.8/site-packages (from flair) (0.8.1)\n",
      "Requirement already satisfied: conllu>=4.0 in /home/elaheh/.local/lib/python3.8/site-packages (from flair) (4.5.2)\n",
      "Requirement already satisfied: python-dateutil>=2.6.1 in /home/elaheh/.local/lib/python3.8/site-packages (from flair) (2.8.2)\n",
      "Requirement already satisfied: gensim>=3.4.0 in /home/elaheh/.local/lib/python3.8/site-packages (from flair) (4.2.0)\n",
      "Requirement already satisfied: segtok>=1.5.7 in /home/elaheh/.local/lib/python3.8/site-packages (from flair) (1.5.11)\n",
      "Requirement already satisfied: wikipedia-api in /home/elaheh/.local/lib/python3.8/site-packages (from flair) (0.5.4)\n",
      "Requirement already satisfied: mpld3==0.3 in /home/elaheh/.local/lib/python3.8/site-packages (from flair) (0.3)\n",
      "Requirement already satisfied: deprecated>=1.2.4 in /home/elaheh/.local/lib/python3.8/site-packages (from flair) (1.2.13)\n",
      "Requirement already satisfied: lxml in /home/elaheh/.local/lib/python3.8/site-packages (from flair) (4.8.0)\n",
      "Requirement already satisfied: janome in /home/elaheh/.local/lib/python3.8/site-packages (from flair) (0.4.2)\n",
      "Requirement already satisfied: bpemb>=0.3.2 in /home/elaheh/.local/lib/python3.8/site-packages (from flair) (0.3.4)\n",
      "Requirement already satisfied: konoha<5.0.0,>=4.0.0 in /home/elaheh/.local/lib/python3.8/site-packages (from flair) (4.6.5)\n",
      "Requirement already satisfied: tqdm>=4.26.0 in /home/elaheh/.local/lib/python3.8/site-packages (from flair) (4.64.0)\n",
      "Requirement already satisfied: transformers>=4.0.0 in /home/elaheh/.local/lib/python3.8/site-packages (from flair) (4.18.0)\n",
      "Requirement already satisfied: hyperopt>=0.2.7 in /home/elaheh/.local/lib/python3.8/site-packages (from flair) (0.2.7)\n",
      "Requirement already satisfied: threadpoolctl>=2.0.0 in /home/elaheh/.local/lib/python3.8/site-packages (from scikit-learn>=0.21.3->flair) (3.1.0)\n",
      "Requirement already satisfied: joblib>=1.0.0 in /home/elaheh/.local/lib/python3.8/site-packages (from scikit-learn>=0.21.3->flair) (1.1.0)\n",
      "Requirement already satisfied: scipy>=1.3.2 in /home/elaheh/.local/lib/python3.8/site-packages (from scikit-learn>=0.21.3->flair) (1.8.1)\n",
      "Requirement already satisfied: numpy>=1.17.3 in /home/elaheh/.local/lib/python3.8/site-packages (from scikit-learn>=0.21.3->flair) (1.22.3)\n",
      "Requirement already satisfied: beautifulsoup4 in /usr/lib/python3/dist-packages (from gdown==4.4.0->flair) (4.8.2)\n",
      "Requirement already satisfied: requests[socks] in /home/elaheh/.local/lib/python3.8/site-packages (from gdown==4.4.0->flair) (2.27.1)\n",
      "Requirement already satisfied: filelock in /home/elaheh/.local/lib/python3.8/site-packages (from gdown==4.4.0->flair) (3.7.1)\n",
      "Requirement already satisfied: six in /usr/local/lib/python3.8/dist-packages (from gdown==4.4.0->flair) (1.16.0)\n",
      "Requirement already satisfied: packaging>=20.0 in /home/elaheh/.local/lib/python3.8/site-packages (from matplotlib>=2.2.3->flair) (21.3)\n",
      "Requirement already satisfied: pillow>=6.2.0 in /usr/lib/python3/dist-packages (from matplotlib>=2.2.3->flair) (7.0.0)\n",
      "Requirement already satisfied: kiwisolver>=1.0.1 in /home/elaheh/.local/lib/python3.8/site-packages (from matplotlib>=2.2.3->flair) (1.4.4)\n",
      "Requirement already satisfied: cycler>=0.10 in /home/elaheh/.local/lib/python3.8/site-packages (from matplotlib>=2.2.3->flair) (0.11.0)\n",
      "Requirement already satisfied: fonttools>=4.22.0 in /home/elaheh/.local/lib/python3.8/site-packages (from matplotlib>=2.2.3->flair) (4.37.3)\n",
      "Requirement already satisfied: contourpy>=1.0.1 in /home/elaheh/.local/lib/python3.8/site-packages (from matplotlib>=2.2.3->flair) (1.0.5)\n",
      "Requirement already satisfied: pyparsing>=2.2.1 in /home/elaheh/.local/lib/python3.8/site-packages (from matplotlib>=2.2.3->flair) (3.0.9)\n",
      "Requirement already satisfied: typing-extensions in /home/elaheh/.local/lib/python3.8/site-packages (from torch!=1.8,>=1.5.0->flair) (4.2.0)\n",
      "Requirement already satisfied: wcwidth>=0.2.5 in /usr/local/lib/python3.8/dist-packages (from ftfy->flair) (0.2.5)\n",
      "Requirement already satisfied: pyyaml>=5.1 in /usr/lib/python3/dist-packages (from huggingface-hub->flair) (5.3.1)\n",
      "Requirement already satisfied: smart-open>=1.8.1 in /home/elaheh/.local/lib/python3.8/site-packages (from gensim>=3.4.0->flair) (5.2.1)\n",
      "Requirement already satisfied: wrapt<2,>=1.10 in /home/elaheh/.local/lib/python3.8/site-packages (from deprecated>=1.2.4->flair) (1.14.1)\n",
      "Requirement already satisfied: importlib-metadata<4.0.0,>=3.7.0 in /home/elaheh/.local/lib/python3.8/site-packages (from konoha<5.0.0,>=4.0.0->flair) (3.10.1)\n",
      "Requirement already satisfied: overrides<4.0.0,>=3.0.0 in /home/elaheh/.local/lib/python3.8/site-packages (from konoha<5.0.0,>=4.0.0->flair) (3.1.0)\n",
      "Requirement already satisfied: sacremoses in /home/elaheh/.local/lib/python3.8/site-packages (from transformers>=4.0.0->flair) (0.0.53)\n",
      "Requirement already satisfied: tokenizers!=0.11.3,<0.13,>=0.11.1 in /home/elaheh/.local/lib/python3.8/site-packages (from transformers>=4.0.0->flair) (0.12.1)\n",
      "Requirement already satisfied: future in /usr/lib/python3/dist-packages (from hyperopt>=0.2.7->flair) (0.18.2)\n",
      "Requirement already satisfied: networkx>=2.2 in /home/elaheh/.local/lib/python3.8/site-packages (from hyperopt>=0.2.7->flair) (2.8.8)\n",
      "Requirement already satisfied: cloudpickle in /home/elaheh/.local/lib/python3.8/site-packages (from hyperopt>=0.2.7->flair) (2.2.0)\n",
      "Requirement already satisfied: py4j in /home/elaheh/.local/lib/python3.8/site-packages (from hyperopt>=0.2.7->flair) (0.10.9.7)\n",
      "Requirement already satisfied: certifi>=2017.4.17 in /usr/lib/python3/dist-packages (from requests[socks]->gdown==4.4.0->flair) (2019.11.28)\n",
      "Requirement already satisfied: idna<4,>=2.5; python_version >= \"3\" in /usr/lib/python3/dist-packages (from requests[socks]->gdown==4.4.0->flair) (2.8)\n",
      "Requirement already satisfied: urllib3<1.27,>=1.21.1 in /usr/local/lib/python3.8/dist-packages (from requests[socks]->gdown==4.4.0->flair) (1.26.9)\n",
      "Requirement already satisfied: charset-normalizer~=2.0.0; python_version >= \"3\" in /usr/local/lib/python3.8/dist-packages (from requests[socks]->gdown==4.4.0->flair) (2.0.12)\n",
      "Requirement already satisfied: PySocks!=1.5.7,>=1.5.6; extra == \"socks\" in /home/elaheh/.local/lib/python3.8/site-packages (from requests[socks]->gdown==4.4.0->flair) (1.7.1)\n",
      "Requirement already satisfied: zipp>=0.5 in /usr/lib/python3/dist-packages (from importlib-metadata<4.0.0,>=3.7.0->konoha<5.0.0,>=4.0.0->flair) (1.0.0)\n",
      "Requirement already satisfied: click in /home/elaheh/.local/lib/python3.8/site-packages (from sacremoses->transformers>=4.0.0->flair) (7.1.2)\n",
      "Note: you may need to restart the kernel to use updated packages.\n"
     ]
    }
   ],
   "source": [
    "pip install flair"
   ]
  },
  {
   "cell_type": "code",
   "execution_count": 3,
   "metadata": {},
   "outputs": [],
   "source": [
    "#]https://towardsdatascience.com/5-lesser-known-python-libraries-for-your-next-nlp-project-ff13fc652553"
   ]
  },
  {
   "cell_type": "code",
   "execution_count": 4,
   "metadata": {},
   "outputs": [
    {
     "name": "stdout",
     "output_type": "stream",
     "text": [
      "Requirement already satisfied: contractions in /home/elaheh/.local/lib/python3.8/site-packages (0.1.73)\n",
      "Requirement already satisfied: textsearch>=0.0.21 in /home/elaheh/.local/lib/python3.8/site-packages (from contractions) (0.0.24)\n",
      "Requirement already satisfied: anyascii in /home/elaheh/.local/lib/python3.8/site-packages (from textsearch>=0.0.21->contractions) (0.3.1)\n",
      "Requirement already satisfied: pyahocorasick in /home/elaheh/.local/lib/python3.8/site-packages (from textsearch>=0.0.21->contractions) (1.4.4)\n",
      "Note: you may need to restart the kernel to use updated packages.\n"
     ]
    }
   ],
   "source": [
    "pip install contractions"
   ]
  },
  {
   "cell_type": "code",
   "execution_count": 5,
   "metadata": {},
   "outputs": [
    {
     "name": "stdout",
     "output_type": "stream",
     "text": [
      "Requirement already satisfied: distilbert-punctuator in /home/elaheh/.local/lib/python3.8/site-packages (0.3.0)\n",
      "Requirement already satisfied: pydantic==1.8.2 in /home/elaheh/.local/lib/python3.8/site-packages (from distilbert-punctuator) (1.8.2)\n",
      "Requirement already satisfied: transformers>=4.12.0 in /home/elaheh/.local/lib/python3.8/site-packages (from distilbert-punctuator) (4.18.0)\n",
      "Requirement already satisfied: plane>=0.2.0 in /home/elaheh/.local/lib/python3.8/site-packages (from distilbert-punctuator) (0.2.1)\n",
      "Requirement already satisfied: typer==0.3.2 in /home/elaheh/.local/lib/python3.8/site-packages (from distilbert-punctuator) (0.3.2)\n",
      "Requirement already satisfied: torch>=1.7.1 in /home/elaheh/.local/lib/python3.8/site-packages (from distilbert-punctuator) (1.11.0)\n",
      "Requirement already satisfied: tqdm>=4.61.2 in /home/elaheh/.local/lib/python3.8/site-packages (from distilbert-punctuator) (4.64.0)\n",
      "Requirement already satisfied: typing-extensions>=3.7.4.3 in /home/elaheh/.local/lib/python3.8/site-packages (from pydantic==1.8.2->distilbert-punctuator) (4.2.0)\n",
      "Requirement already satisfied: pyyaml>=5.1 in /usr/lib/python3/dist-packages (from transformers>=4.12.0->distilbert-punctuator) (5.3.1)\n",
      "Requirement already satisfied: filelock in /home/elaheh/.local/lib/python3.8/site-packages (from transformers>=4.12.0->distilbert-punctuator) (3.7.1)\n",
      "Requirement already satisfied: sacremoses in /home/elaheh/.local/lib/python3.8/site-packages (from transformers>=4.12.0->distilbert-punctuator) (0.0.53)\n",
      "Requirement already satisfied: numpy>=1.17 in /home/elaheh/.local/lib/python3.8/site-packages (from transformers>=4.12.0->distilbert-punctuator) (1.22.3)\n",
      "Requirement already satisfied: packaging>=20.0 in /home/elaheh/.local/lib/python3.8/site-packages (from transformers>=4.12.0->distilbert-punctuator) (21.3)\n",
      "Requirement already satisfied: tokenizers!=0.11.3,<0.13,>=0.11.1 in /home/elaheh/.local/lib/python3.8/site-packages (from transformers>=4.12.0->distilbert-punctuator) (0.12.1)\n",
      "Requirement already satisfied: regex!=2019.12.17 in /usr/local/lib/python3.8/dist-packages (from transformers>=4.12.0->distilbert-punctuator) (2022.6.2)\n",
      "Requirement already satisfied: requests in /home/elaheh/.local/lib/python3.8/site-packages (from transformers>=4.12.0->distilbert-punctuator) (2.27.1)\n",
      "Requirement already satisfied: huggingface-hub<1.0,>=0.1.0 in /home/elaheh/.local/lib/python3.8/site-packages (from transformers>=4.12.0->distilbert-punctuator) (0.8.1)\n",
      "Requirement already satisfied: click<7.2.0,>=7.1.1 in /home/elaheh/.local/lib/python3.8/site-packages (from typer==0.3.2->distilbert-punctuator) (7.1.2)\n",
      "Requirement already satisfied: six in /usr/local/lib/python3.8/dist-packages (from sacremoses->transformers>=4.12.0->distilbert-punctuator) (1.16.0)\n",
      "Requirement already satisfied: joblib in /home/elaheh/.local/lib/python3.8/site-packages (from sacremoses->transformers>=4.12.0->distilbert-punctuator) (1.1.0)\n",
      "Requirement already satisfied: pyparsing!=3.0.5,>=2.0.2 in /home/elaheh/.local/lib/python3.8/site-packages (from packaging>=20.0->transformers>=4.12.0->distilbert-punctuator) (3.0.9)\n",
      "Requirement already satisfied: urllib3<1.27,>=1.21.1 in /usr/local/lib/python3.8/dist-packages (from requests->transformers>=4.12.0->distilbert-punctuator) (1.26.9)\n",
      "Requirement already satisfied: charset-normalizer~=2.0.0; python_version >= \"3\" in /usr/local/lib/python3.8/dist-packages (from requests->transformers>=4.12.0->distilbert-punctuator) (2.0.12)\n",
      "Requirement already satisfied: idna<4,>=2.5; python_version >= \"3\" in /usr/lib/python3/dist-packages (from requests->transformers>=4.12.0->distilbert-punctuator) (2.8)\n",
      "Requirement already satisfied: certifi>=2017.4.17 in /usr/lib/python3/dist-packages (from requests->transformers>=4.12.0->distilbert-punctuator) (2019.11.28)\n",
      "Note: you may need to restart the kernel to use updated packages.\n"
     ]
    }
   ],
   "source": [
    "pip install distilbert-punctuator"
   ]
  },
  {
   "cell_type": "code",
   "execution_count": 6,
   "metadata": {},
   "outputs": [
    {
     "name": "stdout",
     "output_type": "stream",
     "text": [
      "Requirement already satisfied: textstat in /home/elaheh/.local/lib/python3.8/site-packages (0.7.3)\n",
      "Requirement already satisfied: pyphen in /home/elaheh/.local/lib/python3.8/site-packages (from textstat) (0.13.2)\n",
      "Note: you may need to restart the kernel to use updated packages.\n"
     ]
    }
   ],
   "source": [
    "pip install textstat"
   ]
  },
  {
   "cell_type": "code",
   "execution_count": 7,
   "metadata": {},
   "outputs": [
    {
     "name": "stdout",
     "output_type": "stream",
     "text": [
      "Requirement already satisfied: gibberish-detector in /home/elaheh/.local/lib/python3.8/site-packages (0.1.1)\n",
      "Note: you may need to restart the kernel to use updated packages.\n"
     ]
    }
   ],
   "source": [
    "pip install gibberish-detector"
   ]
  },
  {
   "cell_type": "code",
   "execution_count": 8,
   "metadata": {},
   "outputs": [
    {
     "name": "stdout",
     "output_type": "stream",
     "text": [
      "Requirement already satisfied: TextBlob in /home/elaheh/.local/lib/python3.8/site-packages (0.17.1)\n",
      "Requirement already satisfied: nltk>=3.1; python_version >= \"3\" in /home/elaheh/.local/lib/python3.8/site-packages (from TextBlob) (3.7)\n",
      "Requirement already satisfied: regex>=2021.8.3 in /usr/local/lib/python3.8/dist-packages (from nltk>=3.1; python_version >= \"3\"->TextBlob) (2022.6.2)\n",
      "Requirement already satisfied: tqdm in /home/elaheh/.local/lib/python3.8/site-packages (from nltk>=3.1; python_version >= \"3\"->TextBlob) (4.64.0)\n",
      "Requirement already satisfied: joblib in /home/elaheh/.local/lib/python3.8/site-packages (from nltk>=3.1; python_version >= \"3\"->TextBlob) (1.1.0)\n",
      "Requirement already satisfied: click in /home/elaheh/.local/lib/python3.8/site-packages (from nltk>=3.1; python_version >= \"3\"->TextBlob) (7.1.2)\n",
      "Note: you may need to restart the kernel to use updated packages.\n"
     ]
    }
   ],
   "source": [
    "pip install TextBlob"
   ]
  },
  {
   "cell_type": "markdown",
   "metadata": {
    "id": "Wk-FB80pSIBh"
   },
   "source": [
    " ## Importing libraries"
   ]
  },
  {
   "cell_type": "code",
   "execution_count": 9,
   "metadata": {
    "colab": {
     "base_uri": "https://localhost:8080/",
     "height": 267,
     "referenced_widgets": [
      "5ae48b367cd349aeaf8313efded78044",
      "8fd3f2c6741646dc8256c1730cd77c27",
      "5678d08218544c649bcab1cf52d3107c",
      "c80545cfc3d54fabad2789d3345fea86",
      "c450f6caa5e846649e018e0ecdfe62f7",
      "f0ad5fa62a964e678fb66cb64076927f",
      "705fdb4db1184ba88857e2759e38949d",
      "9736f958be654481995e5f5ed3cce5c9",
      "29699c49d9ad4aeba9c6bd8e4c232fb0",
      "67423aa579664729b1fcd74ac28c46cd",
      "5fda3b97d9fb4addb883d17e94ddfc35",
      "831c693c5b544a8d9e9df5d144e59e3b",
      "2c51353d88c04cd2b74d81d9e281b0a6",
      "044994e7c2fc4e33976c0b704ddd15ee",
      "d1603a9136494ca7aaeb981a683ba8e8",
      "fe4992b22efd4c819784b2e45cc8371d",
      "dedead2a3d094ad1b8b65101f761e360",
      "1231b88b16844708af34511dabc5f495",
      "788522216ff74ed3b59dfb8d13b9b60d",
      "e13c19242fd64b088aa69056ed2d6ae8",
      "023b587e0b6e41e5b6243dbc1882299f",
      "747182c3540e488ab2846a5065999b54",
      "67a498ba4f234ac895847316aa5e3a2f",
      "4fbff100abc24c438a39ca43fffd2b5d",
      "726507f6e52d4df8b3d2d311a1f53b50",
      "937add21221d49e38b4d4b8ecc355d32",
      "34c1ff67c5074ff4a85870201ac2dbd1",
      "02221d0f5d094cd2ab76dac9d0cc5737",
      "edd53cf025d9451686afb69ad316ff8e",
      "ac17ebb3b5ce4ea09510a1467de39aaa",
      "b47ce11ed8fe4340ac504c13a303d55a",
      "581e7edaeb0041f9a9b5791d3eb48af7",
      "39ad5bbe521c4050acd64c150bef5f65",
      "375b50d46f164ee3bff697c813303a0b",
      "eb566fdb19914459bd9f6a549fca8877",
      "2eca1c30390141e39b7d6d6090af9fb6",
      "bd1bf1e4b1eb4c22896d823e30947afc",
      "9b153c6ff1e54fbeb7ed9049ab30abbd",
      "26fbc91dadb24681a7fcfcf99de356dc",
      "d482ff4579f34230b3d1d22a1c2e5616",
      "b20127b5f9ba4b6aaa9be214085a4669",
      "0de8fd55fe4743219a92b9fed5d12645",
      "35297d94b8464014b46466f90eb76101",
      "70cce8ea22b9439cb6f9271e43f328d9"
     ]
    },
    "id": "0ckHJFnTOuyf",
    "outputId": "4d34729e-6641-4801-ea2d-aa3710bbc1af"
   },
   "outputs": [
    {
     "name": "stderr",
     "output_type": "stream",
     "text": [
      "[nltk_data] Downloading package punkt to /home/elaheh/nltk_data...\n",
      "[nltk_data]   Package punkt is already up-to-date!\n"
     ]
    },
    {
     "name": "stdout",
     "output_type": "stream",
     "text": [
      "2023-01-21 16:23:20,833 loading file /home/elaheh/.flair/models/sentiment-en-mix-distillbert_4.pt\n"
     ]
    }
   ],
   "source": [
    "import pandas as pd\n",
    "import torch\n",
    "import csv\n",
    "import numpy as np\n",
    "import nltk\n",
    "nltk.download('punkt')\n",
    "from nltk.tokenize import word_tokenize\n",
    "import flair\n",
    "model = flair.models.TextClassifier.load('en-sentiment')\n",
    "import re\n",
    "from textblob import TextBlob"
   ]
  },
  {
   "cell_type": "code",
   "execution_count": 10,
   "metadata": {
    "id": "TeZJS_HaWplj"
   },
   "outputs": [],
   "source": [
    "import contractions"
   ]
  },
  {
   "cell_type": "code",
   "execution_count": 11,
   "metadata": {},
   "outputs": [],
   "source": [
    "from gibberish_detector import detector"
   ]
  },
  {
   "cell_type": "code",
   "execution_count": 12,
   "metadata": {},
   "outputs": [
    {
     "name": "stderr",
     "output_type": "stream",
     "text": [
      "2023-01-21 16:23:29,074 - \u001b[32mINFO\u001b[0m - inference_interface.py:75 - inference_interface._produce_server - 23558 - set up punctuator\n",
      "2023-01-21 16:23:37,798 - \u001b[32mINFO\u001b[0m - inference_interface.py:88 - inference_interface._produce_server - 23558 - start running punctuator\n",
      "2023-01-21 16:23:39,033 - \u001b[32mINFO\u001b[0m - inference_interface.py:91 - inference_interface._produce_server - 23558 - start client\n",
      "2023-01-21 16:23:39,051 - \u001b[32mINFO\u001b[0m - inference_pipeline.py:311 - inference_pipeline.run - 23666 - server is running\n"
     ]
    }
   ],
   "source": [
    "from dbpunctuator.inference import Inference, InferenceArguments\n",
    "from dbpunctuator.utils import DEFAULT_ENGLISH_TAG_PUNCTUATOR_MAP\n",
    "args = InferenceArguments(\n",
    "        model_name_or_path=\"Qishuai/distilbert_punctuator_en\",\n",
    "        tokenizer_name=\"Qishuai/distilbert_punctuator_en\",\n",
    "        tag2punctuator=DEFAULT_ENGLISH_TAG_PUNCTUATOR_MAP\n",
    "    )\n",
    "punctuator_model = Inference(inference_args=args, \n",
    "                             verbose=False)"
   ]
  },
  {
   "cell_type": "code",
   "execution_count": 13,
   "metadata": {},
   "outputs": [],
   "source": [
    "import textstat"
   ]
  },
  {
   "cell_type": "markdown",
   "metadata": {
    "id": "zh1zQ9SJWp0y"
   },
   "source": [
    "### Data processing and Visualisation"
   ]
  },
  {
   "cell_type": "code",
   "execution_count": 14,
   "metadata": {
    "id": "IDn6bHe8SjuB"
   },
   "outputs": [],
   "source": [
    "data = pd.read_csv('moviereviews.tsv', sep='\\t')"
   ]
  },
  {
   "cell_type": "code",
   "execution_count": 15,
   "metadata": {
    "colab": {
     "base_uri": "https://localhost:8080/",
     "height": 206
    },
    "id": "k0Twc2xtUH_5",
    "outputId": "36d39c5f-8df3-47a5-e6c0-01623487b97c"
   },
   "outputs": [
    {
     "data": {
      "text/html": [
       "<div>\n",
       "<style scoped>\n",
       "    .dataframe tbody tr th:only-of-type {\n",
       "        vertical-align: middle;\n",
       "    }\n",
       "\n",
       "    .dataframe tbody tr th {\n",
       "        vertical-align: top;\n",
       "    }\n",
       "\n",
       "    .dataframe thead th {\n",
       "        text-align: right;\n",
       "    }\n",
       "</style>\n",
       "<table border=\"1\" class=\"dataframe\">\n",
       "  <thead>\n",
       "    <tr style=\"text-align: right;\">\n",
       "      <th></th>\n",
       "      <th>label</th>\n",
       "      <th>review</th>\n",
       "    </tr>\n",
       "  </thead>\n",
       "  <tbody>\n",
       "    <tr>\n",
       "      <th>0</th>\n",
       "      <td>neg</td>\n",
       "      <td>how do films like mouse hunt get into theatres...</td>\n",
       "    </tr>\n",
       "    <tr>\n",
       "      <th>1</th>\n",
       "      <td>neg</td>\n",
       "      <td>some talented actresses are blessed with a dem...</td>\n",
       "    </tr>\n",
       "    <tr>\n",
       "      <th>2</th>\n",
       "      <td>pos</td>\n",
       "      <td>this has been an extraordinary year for austra...</td>\n",
       "    </tr>\n",
       "    <tr>\n",
       "      <th>3</th>\n",
       "      <td>pos</td>\n",
       "      <td>according to hollywood movies made in last few...</td>\n",
       "    </tr>\n",
       "    <tr>\n",
       "      <th>4</th>\n",
       "      <td>neg</td>\n",
       "      <td>my first press screening of 1998 and already i...</td>\n",
       "    </tr>\n",
       "  </tbody>\n",
       "</table>\n",
       "</div>"
      ],
      "text/plain": [
       "  label                                             review\n",
       "0   neg  how do films like mouse hunt get into theatres...\n",
       "1   neg  some talented actresses are blessed with a dem...\n",
       "2   pos  this has been an extraordinary year for austra...\n",
       "3   pos  according to hollywood movies made in last few...\n",
       "4   neg  my first press screening of 1998 and already i..."
      ]
     },
     "execution_count": 15,
     "metadata": {},
     "output_type": "execute_result"
    }
   ],
   "source": [
    "data.head()"
   ]
  },
  {
   "cell_type": "code",
   "execution_count": 16,
   "metadata": {
    "colab": {
     "base_uri": "https://localhost:8080/"
    },
    "id": "V2k0vnksVGYS",
    "outputId": "08d3b1d3-ca39-406d-c3f9-4273ab0cf360"
   },
   "outputs": [
    {
     "data": {
      "text/plain": [
       "array(['neg', 'pos'], dtype=object)"
      ]
     },
     "execution_count": 16,
     "metadata": {},
     "output_type": "execute_result"
    }
   ],
   "source": [
    "data.label.unique()"
   ]
  },
  {
   "cell_type": "code",
   "execution_count": 17,
   "metadata": {
    "id": "-P4Y6gIhUJC7"
   },
   "outputs": [],
   "source": [
    "data['Binary'] = data['label'].map({ 'neg' : 0, 'pos' : 1})"
   ]
  },
  {
   "cell_type": "code",
   "execution_count": 18,
   "metadata": {
    "colab": {
     "base_uri": "https://localhost:8080/",
     "height": 363
    },
    "id": "Zf2aqyUvVRK5",
    "outputId": "04a5f984-03ff-4344-d797-b26bece9c6ba"
   },
   "outputs": [
    {
     "data": {
      "text/html": [
       "<div>\n",
       "<style scoped>\n",
       "    .dataframe tbody tr th:only-of-type {\n",
       "        vertical-align: middle;\n",
       "    }\n",
       "\n",
       "    .dataframe tbody tr th {\n",
       "        vertical-align: top;\n",
       "    }\n",
       "\n",
       "    .dataframe thead th {\n",
       "        text-align: right;\n",
       "    }\n",
       "</style>\n",
       "<table border=\"1\" class=\"dataframe\">\n",
       "  <thead>\n",
       "    <tr style=\"text-align: right;\">\n",
       "      <th></th>\n",
       "      <th>label</th>\n",
       "      <th>review</th>\n",
       "      <th>Binary</th>\n",
       "    </tr>\n",
       "  </thead>\n",
       "  <tbody>\n",
       "    <tr>\n",
       "      <th>0</th>\n",
       "      <td>neg</td>\n",
       "      <td>how do films like mouse hunt get into theatres...</td>\n",
       "      <td>0</td>\n",
       "    </tr>\n",
       "    <tr>\n",
       "      <th>1</th>\n",
       "      <td>neg</td>\n",
       "      <td>some talented actresses are blessed with a dem...</td>\n",
       "      <td>0</td>\n",
       "    </tr>\n",
       "    <tr>\n",
       "      <th>2</th>\n",
       "      <td>pos</td>\n",
       "      <td>this has been an extraordinary year for austra...</td>\n",
       "      <td>1</td>\n",
       "    </tr>\n",
       "    <tr>\n",
       "      <th>3</th>\n",
       "      <td>pos</td>\n",
       "      <td>according to hollywood movies made in last few...</td>\n",
       "      <td>1</td>\n",
       "    </tr>\n",
       "    <tr>\n",
       "      <th>4</th>\n",
       "      <td>neg</td>\n",
       "      <td>my first press screening of 1998 and already i...</td>\n",
       "      <td>0</td>\n",
       "    </tr>\n",
       "    <tr>\n",
       "      <th>5</th>\n",
       "      <td>neg</td>\n",
       "      <td>to put it bluntly , ed wood would have been pr...</td>\n",
       "      <td>0</td>\n",
       "    </tr>\n",
       "    <tr>\n",
       "      <th>6</th>\n",
       "      <td>neg</td>\n",
       "      <td>synopsis : melissa , a mentally-disturbed woma...</td>\n",
       "      <td>0</td>\n",
       "    </tr>\n",
       "    <tr>\n",
       "      <th>7</th>\n",
       "      <td>neg</td>\n",
       "      <td>tim robbins and martin lawernce team up in thi...</td>\n",
       "      <td>0</td>\n",
       "    </tr>\n",
       "    <tr>\n",
       "      <th>8</th>\n",
       "      <td>neg</td>\n",
       "      <td>in \" gia \" , angelina jolie plays the titular ...</td>\n",
       "      <td>0</td>\n",
       "    </tr>\n",
       "    <tr>\n",
       "      <th>9</th>\n",
       "      <td>neg</td>\n",
       "      <td>in 1990 , the surprise success an unheralded l...</td>\n",
       "      <td>0</td>\n",
       "    </tr>\n",
       "  </tbody>\n",
       "</table>\n",
       "</div>"
      ],
      "text/plain": [
       "  label                                             review  Binary\n",
       "0   neg  how do films like mouse hunt get into theatres...       0\n",
       "1   neg  some talented actresses are blessed with a dem...       0\n",
       "2   pos  this has been an extraordinary year for austra...       1\n",
       "3   pos  according to hollywood movies made in last few...       1\n",
       "4   neg  my first press screening of 1998 and already i...       0\n",
       "5   neg  to put it bluntly , ed wood would have been pr...       0\n",
       "6   neg  synopsis : melissa , a mentally-disturbed woma...       0\n",
       "7   neg  tim robbins and martin lawernce team up in thi...       0\n",
       "8   neg  in \" gia \" , angelina jolie plays the titular ...       0\n",
       "9   neg  in 1990 , the surprise success an unheralded l...       0"
      ]
     },
     "execution_count": 18,
     "metadata": {},
     "output_type": "execute_result"
    }
   ],
   "source": [
    "data.head(10)"
   ]
  },
  {
   "cell_type": "code",
   "execution_count": 19,
   "metadata": {
    "colab": {
     "base_uri": "https://localhost:8080/"
    },
    "id": "LOarKIMoVTCW",
    "outputId": "0a2d7c7c-14a2-44d6-f337-163a82d69ee4"
   },
   "outputs": [
    {
     "name": "stdout",
     "output_type": "stream",
     "text": [
      "<class 'pandas.core.frame.DataFrame'>\n",
      "RangeIndex: 2000 entries, 0 to 1999\n",
      "Data columns (total 3 columns):\n",
      " #   Column  Non-Null Count  Dtype \n",
      "---  ------  --------------  ----- \n",
      " 0   label   2000 non-null   object\n",
      " 1   review  1965 non-null   object\n",
      " 2   Binary  2000 non-null   int64 \n",
      "dtypes: int64(1), object(2)\n",
      "memory usage: 47.0+ KB\n"
     ]
    }
   ],
   "source": [
    "data.info()"
   ]
  },
  {
   "cell_type": "code",
   "execution_count": 20,
   "metadata": {},
   "outputs": [
    {
     "data": {
      "text/plain": [
       "\"how do films like mouse hunt get into theatres ? \\r\\nisn't there a law or something ? \\r\\nthis diabolical load of claptrap from steven speilberg's dreamwo\""
      ]
     },
     "execution_count": 20,
     "metadata": {},
     "output_type": "execute_result"
    }
   ],
   "source": [
    "t= data['review'][0][:150]\n",
    "t"
   ]
  },
  {
   "cell_type": "code",
   "execution_count": 21,
   "metadata": {},
   "outputs": [
    {
     "name": "stdout",
     "output_type": "stream",
     "text": [
      "how do films like mouse hunt get into theatres ? \r\n",
      "is not there a law or something ? \r\n",
      "this diabolical load of claptrap from steven speilberg's dreamwo\n"
     ]
    }
   ],
   "source": [
    "t2= contractions.fix(t, slang=True)\n",
    "print(t2) "
   ]
  },
  {
   "cell_type": "code",
   "execution_count": 22,
   "metadata": {},
   "outputs": [
    {
     "name": "stderr",
     "output_type": "stream",
     "text": [
      "2023-01-21 16:23:39,251 - \u001b[32mINFO\u001b[0m - inference_pipeline.py:173 - inference_pipeline.pre_process - 23666 - self split indexes: []\n"
     ]
    },
    {
     "name": "stdout",
     "output_type": "stream",
     "text": [
      "how do films like mouse hunt get into th\n"
     ]
    }
   ],
   "source": [
    "text1= data['review'][0][:40]\n",
    "print(text1)\n",
    "text2= punctuator_model.punctuation(text1)"
   ]
  },
  {
   "cell_type": "code",
   "execution_count": 23,
   "metadata": {},
   "outputs": [
    {
     "name": "stdout",
     "output_type": "stream",
     "text": [
      "(['H.', 'O.', 'W', '', 'D.', 'O.', '', 'F.', 'I.', 'L.', 'M.', 'S.', '', 'L.', 'I.', 'K.', 'E.', '', 'M.', 'O.', 'U.', 'S.', 'E.', '', 'H.', 'U.', 'N', 'T.', '', 'G.', 'E.', 'T.', '', 'I.', 'N', 'T.', 'O.', '', 'T.', 'H.'], [['PERIOD'], ['PERIOD'], ['O'], [], ['PERIOD'], ['PERIOD'], [], ['PERIOD'], ['PERIOD'], ['PERIOD'], ['PERIOD'], ['PERIOD'], [], ['PERIOD'], ['PERIOD'], ['PERIOD'], ['PERIOD'], [], ['PERIOD'], ['PERIOD'], ['PERIOD'], ['PERIOD'], ['PERIOD'], [], ['PERIOD'], ['PERIOD'], ['O'], ['PERIOD'], [], ['PERIOD'], ['PERIOD'], ['PERIOD'], [], ['PERIOD'], ['O'], ['PERIOD'], ['PERIOD'], [], ['PERIOD'], ['PERIOD']])\n"
     ]
    }
   ],
   "source": [
    "print(text2)"
   ]
  },
  {
   "cell_type": "code",
   "execution_count": 24,
   "metadata": {},
   "outputs": [
    {
     "name": "stdout",
     "output_type": "stream",
     "text": [
      "87.31\n"
     ]
    }
   ],
   "source": [
    "print(textstat.flesch_reading_ease(str(data['review'])))"
   ]
  },
  {
   "cell_type": "code",
   "execution_count": 25,
   "metadata": {},
   "outputs": [
    {
     "name": "stdout",
     "output_type": "stream",
     "text": [
      "126.21\n"
     ]
    }
   ],
   "source": [
    "print(textstat.reading_time(data['review'][0], ms_per_char=70))"
   ]
  },
  {
   "cell_type": "code",
   "execution_count": 26,
   "metadata": {},
   "outputs": [
    {
     "name": "stdout",
     "output_type": "stream",
     "text": [
      "373\n"
     ]
    }
   ],
   "source": [
    "print(textstat.lexicon_count(data['review'][0], removepunct=True))"
   ]
  },
  {
   "cell_type": "code",
   "execution_count": 27,
   "metadata": {
    "id": "3GOfLdiHVf8h"
   },
   "outputs": [],
   "source": [
    "data_sample = data.sample(30) # Because of maximum number of 512 tags of sentence"
   ]
  },
  {
   "cell_type": "code",
   "execution_count": 28,
   "metadata": {
    "id": "oxVOS4aXWxm1"
   },
   "outputs": [
    {
     "data": {
      "text/plain": [
       "'/home/elaheh/Documents/University/Self_learning/2023/git/1-Sentiment_Anaylsis (2022)'"
      ]
     },
     "execution_count": 28,
     "metadata": {},
     "output_type": "execute_result"
    }
   ],
   "source": [
    "pwd"
   ]
  },
  {
   "cell_type": "markdown",
   "metadata": {
    "id": "l_kM53N0WyXd"
   },
   "source": [
    "## Neural models "
   ]
  },
  {
   "cell_type": "code",
   "execution_count": 29,
   "metadata": {
    "id": "lVYKoOWVW28z"
   },
   "outputs": [],
   "source": [
    "text = data['review'][10]"
   ]
  },
  {
   "cell_type": "code",
   "execution_count": 30,
   "metadata": {
    "id": "-tzRXad0Qljh"
   },
   "outputs": [],
   "source": [
    "def text_predict(text):\n",
    "  sentence = flair.data.Sentence(text)\n",
    "  model.predict(sentence)\n",
    "  return sentence.labels[0].score"
   ]
  },
  {
   "cell_type": "code",
   "execution_count": 31,
   "metadata": {
    "colab": {
     "base_uri": "https://localhost:8080/"
    },
    "id": "rDBGDOtgV4BI",
    "outputId": "e1f98480-bc28-42f3-ccd4-ae429fedcb67"
   },
   "outputs": [
    {
     "data": {
      "text/plain": [
       "str"
      ]
     },
     "execution_count": 31,
     "metadata": {},
     "output_type": "execute_result"
    }
   ],
   "source": [
    "type(data['review'][0])"
   ]
  },
  {
   "cell_type": "code",
   "execution_count": 32,
   "metadata": {
    "colab": {
     "base_uri": "https://localhost:8080/"
    },
    "id": "Q7-1gnh9RoV9",
    "outputId": "7f83cbfa-ab28-42e3-9f23-ea3346b73e2d"
   },
   "outputs": [
    {
     "data": {
      "text/plain": [
       "0.9999516010284424"
      ]
     },
     "execution_count": 32,
     "metadata": {},
     "output_type": "execute_result"
    }
   ],
   "source": [
    "text_predict(text)"
   ]
  },
  {
   "cell_type": "code",
   "execution_count": 33,
   "metadata": {
    "id": "USiPRn84VnED"
   },
   "outputs": [],
   "source": [
    "def text_predict_label(text):\n",
    "  sentence = flair.data.Sentence(text)\n",
    "  model.predict(sentence)\n",
    "  return sentence.labels[0].value"
   ]
  },
  {
   "cell_type": "code",
   "execution_count": 34,
   "metadata": {
    "colab": {
     "base_uri": "https://localhost:8080/",
     "height": 35
    },
    "id": "UPc4IPpLcXBz",
    "outputId": "808d0313-6006-47f4-a32c-47b2cc7f93c5"
   },
   "outputs": [
    {
     "data": {
      "text/plain": [
       "'NEGATIVE'"
      ]
     },
     "execution_count": 34,
     "metadata": {},
     "output_type": "execute_result"
    }
   ],
   "source": [
    "text_predict_label(text)"
   ]
  },
  {
   "cell_type": "code",
   "execution_count": 35,
   "metadata": {
    "colab": {
     "base_uri": "https://localhost:8080/",
     "height": 105
    },
    "id": "M1Wk29Nu6QAi",
    "outputId": "9468f4b9-c3c7-488f-a6e1-96ae540bfef7"
   },
   "outputs": [
    {
     "data": {
      "text/plain": [
       "'how do films like mouse hunt get into theatres ? \\r\\nisn\\'t there a law or something ? \\r\\nthis diabolical load of claptrap from steven speilberg\\'s dreamworks studio is hollywood family fare at its deadly worst . \\r\\nmouse hunt takes the bare threads of a plot and tries to prop it up with overacting and flat-out stupid slapstick that makes comedies like jingle all the way look decent by comparison . \\r\\nwriter adam rifkin and director gore verbinski are the names chiefly responsible for this swill . \\r\\nthe plot , for what its worth , concerns two brothers ( nathan lane and an appalling lee evens ) who inherit a poorly run string factory and a seemingly worthless house from their eccentric father . \\r\\ndeciding to check out the long-abandoned house , they soon learn that it\\'s worth a fortune and set about selling it in auction to the highest bidder . \\r\\nbut battling them at every turn is a very smart mouse , happy with his run-down little abode and wanting it to stay that way . \\r\\nthe story alternates between unfunny scenes of the brothers bickering over what to do with their inheritance and endless action sequences as the two take on their increasingly determined furry foe . \\r\\nwhatever promise the film starts with soon deteriorates into boring dialogue , terrible overacting , and increasingly uninspired slapstick that becomes all sound and fury , signifying nothing . \\r\\nthe script becomes so unspeakably bad that the best line poor lee evens can utter after another run in with the rodent is : \" i hate that mouse \" . \\r\\noh cringe ! \\r\\nthis is home alone all over again , and ten times worse . \\r\\none touching scene early on is worth mentioning . \\r\\nwe follow the mouse through a maze of walls and pipes until he arrives at his makeshift abode somewhere in a wall . \\r\\nhe jumps into a tiny bed , pulls up a makeshift sheet and snuggles up to sleep , seemingly happy and just wanting to be left alone . \\r\\nit\\'s a magical little moment in an otherwise soulless film . \\r\\na message to speilberg : if you want dreamworks to be associated with some kind of artistic credibility , then either give all concerned in mouse hunt a swift kick up the arse or hire yourself some decent writers and directors . \\r\\nthis kind of rubbish will just not do at all . \\r\\n'"
      ]
     },
     "execution_count": 35,
     "metadata": {},
     "output_type": "execute_result"
    }
   ],
   "source": [
    "list(data['review'])[0]"
   ]
  },
  {
   "cell_type": "code",
   "execution_count": 36,
   "metadata": {
    "colab": {
     "base_uri": "https://localhost:8080/"
    },
    "id": "k71IZ_KCbhiM",
    "outputId": "95639df3-183b-4dbc-e6c5-c17624d01f8a"
   },
   "outputs": [
    {
     "data": {
      "text/plain": [
       "Sentence: \"upon first viewing of this movie , the phrases \" been there \" and \" done that \" come quickly to mind . spy hard manages to steal almost every joke from the zucker brothers films , the most popular of which are airplane and the naked gun series . stealing stuff can be profitable in this industry , but only when you steal the right stuff . what little plot there is involves dick steele , aka . agent wd-40 ( leslie nielsen ) trying to save the world from an almost deranged madman played by andy griffith . along the way to it goal ( goal ? ) , the film manages to spoof mainly the james bond type films , but also manages to hit on films such as home alone and sister act . the trick about spoofing is that you have to actually be funny , or at the least , satirical . spy hard achieves neither , as it borrows all of the wrong elements from the superior zucker brothers films . the \" dick , the world is in danger . what is it ? well , it 's a big roundish ball floating in space around the sun . . ( i 'm paraphrasing ) \" type of exchange is used at least four times in the opening ten minutes of the film , each time getting progressively less funny . what they should have stolen were the background sight gags which were so effective in the zucker brother 's films while writing their own dialogue . director rick friedberg focuses more on the mug shots of his actors ( especially nielsen , who can do this quite well ) than on the delivery and context of their lines , much of the time cutting the punchline short . the whole film seems to be in a race with itself to be over , as is evident in the final sequence , where there is no comedic denouement after the climax . as was usual in the zucker brothers films and in spy hard , the end credits tend to replace this by being out of context . one of the more amusing was , \" captain of the enterprise . . . . . . james t . kirk \" . overall , i thought this was a very weak effort . while all of the right films to spoof were chosen , they used none of the right spoofing methods . next time they should \" spy \" a little bit harder . * * * * = excellent . one of a kind . must see . * * * = entertaining . worth the price of admission . * * = fair . nothing much special . * = what were they thinking ? ?\" → NEGATIVE (1.0)"
      ]
     },
     "execution_count": 36,
     "metadata": {},
     "output_type": "execute_result"
    }
   ],
   "source": [
    "sentence = flair.data.Sentence(text)\n",
    "model.predict(sentence)\n",
    "sentence"
   ]
  },
  {
   "cell_type": "code",
   "execution_count": 37,
   "metadata": {
    "colab": {
     "base_uri": "https://localhost:8080/"
    },
    "id": "hU70sj8zejrJ",
    "outputId": "357a05e1-839c-49d2-fe7a-02a0dd2645bf"
   },
   "outputs": [
    {
     "data": {
      "text/plain": [
       "flair.data.Sentence"
      ]
     },
     "execution_count": 37,
     "metadata": {},
     "output_type": "execute_result"
    }
   ],
   "source": [
    "type(sentence)"
   ]
  },
  {
   "cell_type": "code",
   "execution_count": 38,
   "metadata": {
    "colab": {
     "base_uri": "https://localhost:8080/"
    },
    "id": "CA1B9_zgbmkr",
    "outputId": "62f121c3-b99a-4c64-a313-02627baff90d"
   },
   "outputs": [
    {
     "data": {
      "text/plain": [
       "'Sentence: \"upon first viewing of this movie , the phrases \" been there \" and \" done that \" come quickly to mind . spy hard manages to steal almost every joke from the zucker brothers films , the most popular of which are airplane and the naked gun series . stealing stuff can be profitable in this industry , but only when you steal the right stuff . what little plot there is involves dick steele , aka . agent wd-40 ( leslie nielsen ) trying to save the world from an almost deranged madman played by andy griffith . along the way to it goal ( goal ? ) , the film manages to spoof mainly the james bond type films , but also manages to hit on films such as home alone and sister act . the trick about spoofing is that you have to actually be funny , or at the least , satirical . spy hard achieves neither , as it borrows all of the wrong elements from the superior zucker brothers films . the \" dick , the world is in danger . what is it ? well , it 's a big roundish ball floating in space around the sun . . ( i 'm paraphrasing ) \" type of exchange is used at least four times in the opening ten minutes of the film , each time getting progressively less funny . what they should have stolen were the background sight gags which were so effective in the zucker brother 's films while writing their own dialogue . director rick friedberg focuses more on the mug shots of his actors ( especially nielsen , who can do this quite well ) than on the delivery and context of their lines , much of the time cutting the punchline short . the whole film seems to be in a race with itself to be over , as is evident in the final sequence , where there is no comedic denouement after the climax . as was usual in the zucker brothers films and in spy hard , the end credits tend to replace this by being out of context . one of the more amusing was , \" captain of the enterprise . . . . . . james t . kirk \" . overall , i thought this was a very weak effort . while all of the right films to spoof were chosen , they used none of the right spoofing methods . next time they should \" spy \" a little bit harder . * * * * = excellent . one of a kind . must see . * * * = entertaining . worth the price of admission . * * = fair . nothing much special . * = what were they thinking ? ?\"'/'NEGATIVE' (1.0)"
      ]
     },
     "execution_count": 38,
     "metadata": {},
     "output_type": "execute_result"
    }
   ],
   "source": [
    "sentence.get_labels()[0]"
   ]
  },
  {
   "cell_type": "code",
   "execution_count": 39,
   "metadata": {
    "colab": {
     "base_uri": "https://localhost:8080/"
    },
    "id": "PrGZoJhhexmj",
    "outputId": "79009ce9-cd85-45e2-8fc8-0788a4bd7c79"
   },
   "outputs": [
    {
     "data": {
      "text/plain": [
       "flair.data.Label"
      ]
     },
     "execution_count": 39,
     "metadata": {},
     "output_type": "execute_result"
    }
   ],
   "source": [
    "type(sentence.labels[0])"
   ]
  },
  {
   "cell_type": "code",
   "execution_count": 40,
   "metadata": {
    "colab": {
     "base_uri": "https://localhost:8080/"
    },
    "id": "POcBNNXhc_X-",
    "outputId": "959959a1-1cd8-40bd-af04-b79c0497df53"
   },
   "outputs": [
    {
     "data": {
      "text/plain": [
       "(0.9999516010284424, 'NEGATIVE')"
      ]
     },
     "execution_count": 40,
     "metadata": {},
     "output_type": "execute_result"
    }
   ],
   "source": [
    "sentence.labels[0].score, sentence.labels[0].value"
   ]
  },
  {
   "cell_type": "code",
   "execution_count": 41,
   "metadata": {
    "colab": {
     "base_uri": "https://localhost:8080/"
    },
    "id": "nJ6M1ZPE6sEu",
    "outputId": "2e8d1207-6ab8-4408-876d-a1282fa52012"
   },
   "outputs": [
    {
     "data": {
      "text/plain": [
       "flair.data.Label"
      ]
     },
     "execution_count": 41,
     "metadata": {},
     "output_type": "execute_result"
    }
   ],
   "source": [
    "type(sentence.labels[0])\n"
   ]
  },
  {
   "cell_type": "code",
   "execution_count": 42,
   "metadata": {
    "colab": {
     "base_uri": "https://localhost:8080/"
    },
    "id": "rV42WXDxWnrh",
    "outputId": "cc3506f6-962d-4193-a968-db6066176dd4"
   },
   "outputs": [
    {
     "name": "stdout",
     "output_type": "stream",
     "text": [
      "0.9999775886535645\n",
      "0.99964439868927\n",
      "0.9966616630554199\n",
      "0.9999855756759644\n",
      "0.9999983310699463\n",
      "0.999894380569458\n",
      "0.9615305662155151\n",
      "0.9658523201942444\n",
      "0.9980831146240234\n",
      "0.9991727471351624\n",
      "0.9999969005584717\n",
      "0.9999852180480957\n",
      "0.9913908243179321\n",
      "0.9992783665657043\n",
      "0.9998279809951782\n",
      "0.6583617925643921\n",
      "0.9720681309700012\n",
      "0.9998542070388794\n",
      "0.9985743761062622\n",
      "0.9999949932098389\n",
      "0.6811572313308716\n",
      "0.999925971031189\n",
      "0.9999924898147583\n",
      "0.9962194561958313\n",
      "0.9999786615371704\n",
      "0.9992926120758057\n",
      "0.9999864101409912\n",
      "0.9994984865188599\n",
      "0.9971070885658264\n",
      "0.9999291896820068\n",
      "[0.9999775886535645, 0.99964439868927, 0.9966616630554199, 0.9999855756759644, 0.9999983310699463, 0.999894380569458, 0.9615305662155151, 0.9658523201942444, 0.9980831146240234, 0.9991727471351624, 0.9999969005584717, 0.9999852180480957, 0.9913908243179321, 0.9992783665657043, 0.9998279809951782, 0.6583617925643921, 0.9720681309700012, 0.9998542070388794, 0.9985743761062622, 0.9999949932098389, 0.6811572313308716, 0.999925971031189, 0.9999924898147583, 0.9962194561958313, 0.9999786615371704, 0.9992926120758057, 0.9999864101409912, 0.9994984865188599, 0.9971070885658264, 0.9999291896820068]\n",
      "30\n"
     ]
    }
   ],
   "source": [
    "scores= []\n",
    "predicted_labels = []\n",
    "for i in list(data_sample['review']):\n",
    "  if type(i) == str :\n",
    "    # print(type(i))\n",
    "    print(text_predict(i))\n",
    "    predicted_labels.append(text_predict_label(i))\n",
    "    scores.append(text_predict(i))\n",
    "  else:\n",
    "    scores.append(' ')\n",
    "    predicted_labels.append(' ')\n",
    "print(scores)\n",
    "print(len(scores))"
   ]
  },
  {
   "cell_type": "code",
   "execution_count": 43,
   "metadata": {
    "colab": {
     "base_uri": "https://localhost:8080/",
     "height": 990
    },
    "id": "1pWuIXPuRv92",
    "outputId": "3f448bac-cb6f-4f7f-e4a8-11b61592636a"
   },
   "outputs": [
    {
     "data": {
      "text/html": [
       "<div>\n",
       "<style scoped>\n",
       "    .dataframe tbody tr th:only-of-type {\n",
       "        vertical-align: middle;\n",
       "    }\n",
       "\n",
       "    .dataframe tbody tr th {\n",
       "        vertical-align: top;\n",
       "    }\n",
       "\n",
       "    .dataframe thead th {\n",
       "        text-align: right;\n",
       "    }\n",
       "</style>\n",
       "<table border=\"1\" class=\"dataframe\">\n",
       "  <thead>\n",
       "    <tr style=\"text-align: right;\">\n",
       "      <th></th>\n",
       "      <th>label</th>\n",
       "      <th>review</th>\n",
       "      <th>Binary</th>\n",
       "      <th>Predicted_scores_Flair</th>\n",
       "    </tr>\n",
       "  </thead>\n",
       "  <tbody>\n",
       "    <tr>\n",
       "      <th>8</th>\n",
       "      <td>neg</td>\n",
       "      <td>in \" gia \" , angelina jolie plays the titular ...</td>\n",
       "      <td>0</td>\n",
       "      <td>0.999978</td>\n",
       "    </tr>\n",
       "    <tr>\n",
       "      <th>1745</th>\n",
       "      <td>neg</td>\n",
       "      <td>sean connery stars as a harvard law professor ...</td>\n",
       "      <td>0</td>\n",
       "      <td>0.999644</td>\n",
       "    </tr>\n",
       "    <tr>\n",
       "      <th>1175</th>\n",
       "      <td>neg</td>\n",
       "      <td>the previews for the movie are pretty good . \\...</td>\n",
       "      <td>0</td>\n",
       "      <td>0.996662</td>\n",
       "    </tr>\n",
       "    <tr>\n",
       "      <th>1370</th>\n",
       "      <td>neg</td>\n",
       "      <td>susan granger's review of \" glitter \" ( 20th c...</td>\n",
       "      <td>0</td>\n",
       "      <td>0.999986</td>\n",
       "    </tr>\n",
       "    <tr>\n",
       "      <th>1131</th>\n",
       "      <td>neg</td>\n",
       "      <td>a few months before the release of star wars e...</td>\n",
       "      <td>0</td>\n",
       "      <td>0.999998</td>\n",
       "    </tr>\n",
       "    <tr>\n",
       "      <th>1938</th>\n",
       "      <td>neg</td>\n",
       "      <td>capsule : liebes meets tod . \\r\\nthis was a fi...</td>\n",
       "      <td>0</td>\n",
       "      <td>0.999894</td>\n",
       "    </tr>\n",
       "    <tr>\n",
       "      <th>1345</th>\n",
       "      <td>neg</td>\n",
       "      <td>the first scene of operation condor has jackie...</td>\n",
       "      <td>0</td>\n",
       "      <td>0.961531</td>\n",
       "    </tr>\n",
       "    <tr>\n",
       "      <th>238</th>\n",
       "      <td>pos</td>\n",
       "      <td>a frequent error is the categorization of a te...</td>\n",
       "      <td>1</td>\n",
       "      <td>0.965852</td>\n",
       "    </tr>\n",
       "    <tr>\n",
       "      <th>253</th>\n",
       "      <td>pos</td>\n",
       "      <td>the \" italian hitchcock \" and acknowledged mas...</td>\n",
       "      <td>1</td>\n",
       "      <td>0.998083</td>\n",
       "    </tr>\n",
       "    <tr>\n",
       "      <th>843</th>\n",
       "      <td>neg</td>\n",
       "      <td>chris tucker is one of those guys you immediat...</td>\n",
       "      <td>0</td>\n",
       "      <td>0.999173</td>\n",
       "    </tr>\n",
       "    <tr>\n",
       "      <th>514</th>\n",
       "      <td>neg</td>\n",
       "      <td>an attempt at florida film noir , palmetto fai...</td>\n",
       "      <td>0</td>\n",
       "      <td>0.999997</td>\n",
       "    </tr>\n",
       "    <tr>\n",
       "      <th>559</th>\n",
       "      <td>neg</td>\n",
       "      <td>plot : a rich psychiatrist with a great home l...</td>\n",
       "      <td>0</td>\n",
       "      <td>0.999985</td>\n",
       "    </tr>\n",
       "    <tr>\n",
       "      <th>1172</th>\n",
       "      <td>pos</td>\n",
       "      <td>the uncompromising nudity bared throughout pet...</td>\n",
       "      <td>1</td>\n",
       "      <td>0.991391</td>\n",
       "    </tr>\n",
       "    <tr>\n",
       "      <th>719</th>\n",
       "      <td>pos</td>\n",
       "      <td>bruce willis and sixth sense director m . nigh...</td>\n",
       "      <td>1</td>\n",
       "      <td>0.999278</td>\n",
       "    </tr>\n",
       "    <tr>\n",
       "      <th>421</th>\n",
       "      <td>neg</td>\n",
       "      <td>blatantly borrowing elements from 1993's \" lik...</td>\n",
       "      <td>0</td>\n",
       "      <td>0.999828</td>\n",
       "    </tr>\n",
       "    <tr>\n",
       "      <th>27</th>\n",
       "      <td>pos</td>\n",
       "      <td>trees lounge is the directoral debut from one ...</td>\n",
       "      <td>1</td>\n",
       "      <td>0.658362</td>\n",
       "    </tr>\n",
       "    <tr>\n",
       "      <th>832</th>\n",
       "      <td>pos</td>\n",
       "      <td>there's some movies i enjoy even though i know...</td>\n",
       "      <td>1</td>\n",
       "      <td>0.972068</td>\n",
       "    </tr>\n",
       "    <tr>\n",
       "      <th>763</th>\n",
       "      <td>neg</td>\n",
       "      <td>one of the first films of 1999 is this mtv pic...</td>\n",
       "      <td>0</td>\n",
       "      <td>0.999854</td>\n",
       "    </tr>\n",
       "    <tr>\n",
       "      <th>1750</th>\n",
       "      <td>neg</td>\n",
       "      <td>of course i knew this going in . \\r\\nwhy is it...</td>\n",
       "      <td>0</td>\n",
       "      <td>0.998574</td>\n",
       "    </tr>\n",
       "    <tr>\n",
       "      <th>81</th>\n",
       "      <td>pos</td>\n",
       "      <td>the deer hunter , directed by michael cimino ,...</td>\n",
       "      <td>1</td>\n",
       "      <td>0.999995</td>\n",
       "    </tr>\n",
       "    <tr>\n",
       "      <th>687</th>\n",
       "      <td>pos</td>\n",
       "      <td>it shows that america remains ambivalent over ...</td>\n",
       "      <td>1</td>\n",
       "      <td>0.681157</td>\n",
       "    </tr>\n",
       "    <tr>\n",
       "      <th>474</th>\n",
       "      <td>neg</td>\n",
       "      <td>\" deep rising \" gives you that sinking feelin...</td>\n",
       "      <td>0</td>\n",
       "      <td>0.999926</td>\n",
       "    </tr>\n",
       "    <tr>\n",
       "      <th>613</th>\n",
       "      <td>neg</td>\n",
       "      <td>once upon a time jean-claude van damme was a d...</td>\n",
       "      <td>0</td>\n",
       "      <td>0.999992</td>\n",
       "    </tr>\n",
       "    <tr>\n",
       "      <th>1274</th>\n",
       "      <td>pos</td>\n",
       "      <td>originally titled 'don't lose your head' , thi...</td>\n",
       "      <td>1</td>\n",
       "      <td>0.996219</td>\n",
       "    </tr>\n",
       "    <tr>\n",
       "      <th>773</th>\n",
       "      <td>pos</td>\n",
       "      <td>another 'independent film' , this comedy , whi...</td>\n",
       "      <td>1</td>\n",
       "      <td>0.999979</td>\n",
       "    </tr>\n",
       "    <tr>\n",
       "      <th>1939</th>\n",
       "      <td>neg</td>\n",
       "      <td>kate ( jennifer aniston ) is having some probl...</td>\n",
       "      <td>0</td>\n",
       "      <td>0.999293</td>\n",
       "    </tr>\n",
       "    <tr>\n",
       "      <th>88</th>\n",
       "      <td>neg</td>\n",
       "      <td>\" goodbye , lover \" sat on the shelf for almo...</td>\n",
       "      <td>0</td>\n",
       "      <td>0.999986</td>\n",
       "    </tr>\n",
       "    <tr>\n",
       "      <th>171</th>\n",
       "      <td>pos</td>\n",
       "      <td>a group of high school kids mix up with a grou...</td>\n",
       "      <td>1</td>\n",
       "      <td>0.999498</td>\n",
       "    </tr>\n",
       "    <tr>\n",
       "      <th>1417</th>\n",
       "      <td>neg</td>\n",
       "      <td>post-chasing amy , a slew of love-triangle mov...</td>\n",
       "      <td>0</td>\n",
       "      <td>0.997107</td>\n",
       "    </tr>\n",
       "    <tr>\n",
       "      <th>1309</th>\n",
       "      <td>neg</td>\n",
       "      <td>in times of crisis people are driven to desper...</td>\n",
       "      <td>0</td>\n",
       "      <td>0.999929</td>\n",
       "    </tr>\n",
       "  </tbody>\n",
       "</table>\n",
       "</div>"
      ],
      "text/plain": [
       "     label                                             review  Binary  \\\n",
       "8      neg  in \" gia \" , angelina jolie plays the titular ...       0   \n",
       "1745   neg  sean connery stars as a harvard law professor ...       0   \n",
       "1175   neg  the previews for the movie are pretty good . \\...       0   \n",
       "1370   neg  susan granger's review of \" glitter \" ( 20th c...       0   \n",
       "1131   neg  a few months before the release of star wars e...       0   \n",
       "1938   neg  capsule : liebes meets tod . \\r\\nthis was a fi...       0   \n",
       "1345   neg  the first scene of operation condor has jackie...       0   \n",
       "238    pos  a frequent error is the categorization of a te...       1   \n",
       "253    pos  the \" italian hitchcock \" and acknowledged mas...       1   \n",
       "843    neg  chris tucker is one of those guys you immediat...       0   \n",
       "514    neg  an attempt at florida film noir , palmetto fai...       0   \n",
       "559    neg  plot : a rich psychiatrist with a great home l...       0   \n",
       "1172   pos  the uncompromising nudity bared throughout pet...       1   \n",
       "719    pos  bruce willis and sixth sense director m . nigh...       1   \n",
       "421    neg  blatantly borrowing elements from 1993's \" lik...       0   \n",
       "27     pos  trees lounge is the directoral debut from one ...       1   \n",
       "832    pos  there's some movies i enjoy even though i know...       1   \n",
       "763    neg  one of the first films of 1999 is this mtv pic...       0   \n",
       "1750   neg  of course i knew this going in . \\r\\nwhy is it...       0   \n",
       "81     pos  the deer hunter , directed by michael cimino ,...       1   \n",
       "687    pos  it shows that america remains ambivalent over ...       1   \n",
       "474    neg   \" deep rising \" gives you that sinking feelin...       0   \n",
       "613    neg  once upon a time jean-claude van damme was a d...       0   \n",
       "1274   pos  originally titled 'don't lose your head' , thi...       1   \n",
       "773    pos  another 'independent film' , this comedy , whi...       1   \n",
       "1939   neg  kate ( jennifer aniston ) is having some probl...       0   \n",
       "88     neg   \" goodbye , lover \" sat on the shelf for almo...       0   \n",
       "171    pos  a group of high school kids mix up with a grou...       1   \n",
       "1417   neg  post-chasing amy , a slew of love-triangle mov...       0   \n",
       "1309   neg  in times of crisis people are driven to desper...       0   \n",
       "\n",
       "      Predicted_scores_Flair  \n",
       "8                   0.999978  \n",
       "1745                0.999644  \n",
       "1175                0.996662  \n",
       "1370                0.999986  \n",
       "1131                0.999998  \n",
       "1938                0.999894  \n",
       "1345                0.961531  \n",
       "238                 0.965852  \n",
       "253                 0.998083  \n",
       "843                 0.999173  \n",
       "514                 0.999997  \n",
       "559                 0.999985  \n",
       "1172                0.991391  \n",
       "719                 0.999278  \n",
       "421                 0.999828  \n",
       "27                  0.658362  \n",
       "832                 0.972068  \n",
       "763                 0.999854  \n",
       "1750                0.998574  \n",
       "81                  0.999995  \n",
       "687                 0.681157  \n",
       "474                 0.999926  \n",
       "613                 0.999992  \n",
       "1274                0.996219  \n",
       "773                 0.999979  \n",
       "1939                0.999293  \n",
       "88                  0.999986  \n",
       "171                 0.999498  \n",
       "1417                0.997107  \n",
       "1309                0.999929  "
      ]
     },
     "execution_count": 43,
     "metadata": {},
     "output_type": "execute_result"
    }
   ],
   "source": [
    "data_sample['Predicted_scores_Flair'] = scores\n",
    "data_sample"
   ]
  },
  {
   "cell_type": "code",
   "execution_count": 44,
   "metadata": {
    "id": "vk8oW8HYia6D"
   },
   "outputs": [],
   "source": [
    "data_sample['predicted_labels'] = predicted_labels"
   ]
  },
  {
   "cell_type": "code",
   "execution_count": 45,
   "metadata": {
    "colab": {
     "base_uri": "https://localhost:8080/",
     "height": 990
    },
    "id": "ZyBjP24QyyKC",
    "outputId": "ed1b87d6-a27f-4d3b-de04-65d40ba7d94b"
   },
   "outputs": [
    {
     "data": {
      "text/html": [
       "<div>\n",
       "<style scoped>\n",
       "    .dataframe tbody tr th:only-of-type {\n",
       "        vertical-align: middle;\n",
       "    }\n",
       "\n",
       "    .dataframe tbody tr th {\n",
       "        vertical-align: top;\n",
       "    }\n",
       "\n",
       "    .dataframe thead th {\n",
       "        text-align: right;\n",
       "    }\n",
       "</style>\n",
       "<table border=\"1\" class=\"dataframe\">\n",
       "  <thead>\n",
       "    <tr style=\"text-align: right;\">\n",
       "      <th></th>\n",
       "      <th>label</th>\n",
       "      <th>review</th>\n",
       "      <th>Binary</th>\n",
       "      <th>Predicted_scores_Flair</th>\n",
       "      <th>predicted_labels</th>\n",
       "    </tr>\n",
       "  </thead>\n",
       "  <tbody>\n",
       "    <tr>\n",
       "      <th>8</th>\n",
       "      <td>neg</td>\n",
       "      <td>in \" gia \" , angelina jolie plays the titular ...</td>\n",
       "      <td>0</td>\n",
       "      <td>0.999978</td>\n",
       "      <td>NEGATIVE</td>\n",
       "    </tr>\n",
       "    <tr>\n",
       "      <th>1745</th>\n",
       "      <td>neg</td>\n",
       "      <td>sean connery stars as a harvard law professor ...</td>\n",
       "      <td>0</td>\n",
       "      <td>0.999644</td>\n",
       "      <td>NEGATIVE</td>\n",
       "    </tr>\n",
       "    <tr>\n",
       "      <th>1175</th>\n",
       "      <td>neg</td>\n",
       "      <td>the previews for the movie are pretty good . \\...</td>\n",
       "      <td>0</td>\n",
       "      <td>0.996662</td>\n",
       "      <td>NEGATIVE</td>\n",
       "    </tr>\n",
       "    <tr>\n",
       "      <th>1370</th>\n",
       "      <td>neg</td>\n",
       "      <td>susan granger's review of \" glitter \" ( 20th c...</td>\n",
       "      <td>0</td>\n",
       "      <td>0.999986</td>\n",
       "      <td>NEGATIVE</td>\n",
       "    </tr>\n",
       "    <tr>\n",
       "      <th>1131</th>\n",
       "      <td>neg</td>\n",
       "      <td>a few months before the release of star wars e...</td>\n",
       "      <td>0</td>\n",
       "      <td>0.999998</td>\n",
       "      <td>NEGATIVE</td>\n",
       "    </tr>\n",
       "    <tr>\n",
       "      <th>1938</th>\n",
       "      <td>neg</td>\n",
       "      <td>capsule : liebes meets tod . \\r\\nthis was a fi...</td>\n",
       "      <td>0</td>\n",
       "      <td>0.999894</td>\n",
       "      <td>NEGATIVE</td>\n",
       "    </tr>\n",
       "    <tr>\n",
       "      <th>1345</th>\n",
       "      <td>neg</td>\n",
       "      <td>the first scene of operation condor has jackie...</td>\n",
       "      <td>0</td>\n",
       "      <td>0.961531</td>\n",
       "      <td>NEGATIVE</td>\n",
       "    </tr>\n",
       "    <tr>\n",
       "      <th>238</th>\n",
       "      <td>pos</td>\n",
       "      <td>a frequent error is the categorization of a te...</td>\n",
       "      <td>1</td>\n",
       "      <td>0.965852</td>\n",
       "      <td>NEGATIVE</td>\n",
       "    </tr>\n",
       "    <tr>\n",
       "      <th>253</th>\n",
       "      <td>pos</td>\n",
       "      <td>the \" italian hitchcock \" and acknowledged mas...</td>\n",
       "      <td>1</td>\n",
       "      <td>0.998083</td>\n",
       "      <td>POSITIVE</td>\n",
       "    </tr>\n",
       "    <tr>\n",
       "      <th>843</th>\n",
       "      <td>neg</td>\n",
       "      <td>chris tucker is one of those guys you immediat...</td>\n",
       "      <td>0</td>\n",
       "      <td>0.999173</td>\n",
       "      <td>NEGATIVE</td>\n",
       "    </tr>\n",
       "    <tr>\n",
       "      <th>514</th>\n",
       "      <td>neg</td>\n",
       "      <td>an attempt at florida film noir , palmetto fai...</td>\n",
       "      <td>0</td>\n",
       "      <td>0.999997</td>\n",
       "      <td>NEGATIVE</td>\n",
       "    </tr>\n",
       "    <tr>\n",
       "      <th>559</th>\n",
       "      <td>neg</td>\n",
       "      <td>plot : a rich psychiatrist with a great home l...</td>\n",
       "      <td>0</td>\n",
       "      <td>0.999985</td>\n",
       "      <td>NEGATIVE</td>\n",
       "    </tr>\n",
       "    <tr>\n",
       "      <th>1172</th>\n",
       "      <td>pos</td>\n",
       "      <td>the uncompromising nudity bared throughout pet...</td>\n",
       "      <td>1</td>\n",
       "      <td>0.991391</td>\n",
       "      <td>POSITIVE</td>\n",
       "    </tr>\n",
       "    <tr>\n",
       "      <th>719</th>\n",
       "      <td>pos</td>\n",
       "      <td>bruce willis and sixth sense director m . nigh...</td>\n",
       "      <td>1</td>\n",
       "      <td>0.999278</td>\n",
       "      <td>POSITIVE</td>\n",
       "    </tr>\n",
       "    <tr>\n",
       "      <th>421</th>\n",
       "      <td>neg</td>\n",
       "      <td>blatantly borrowing elements from 1993's \" lik...</td>\n",
       "      <td>0</td>\n",
       "      <td>0.999828</td>\n",
       "      <td>NEGATIVE</td>\n",
       "    </tr>\n",
       "    <tr>\n",
       "      <th>27</th>\n",
       "      <td>pos</td>\n",
       "      <td>trees lounge is the directoral debut from one ...</td>\n",
       "      <td>1</td>\n",
       "      <td>0.658362</td>\n",
       "      <td>POSITIVE</td>\n",
       "    </tr>\n",
       "    <tr>\n",
       "      <th>832</th>\n",
       "      <td>pos</td>\n",
       "      <td>there's some movies i enjoy even though i know...</td>\n",
       "      <td>1</td>\n",
       "      <td>0.972068</td>\n",
       "      <td>NEGATIVE</td>\n",
       "    </tr>\n",
       "    <tr>\n",
       "      <th>763</th>\n",
       "      <td>neg</td>\n",
       "      <td>one of the first films of 1999 is this mtv pic...</td>\n",
       "      <td>0</td>\n",
       "      <td>0.999854</td>\n",
       "      <td>NEGATIVE</td>\n",
       "    </tr>\n",
       "    <tr>\n",
       "      <th>1750</th>\n",
       "      <td>neg</td>\n",
       "      <td>of course i knew this going in . \\r\\nwhy is it...</td>\n",
       "      <td>0</td>\n",
       "      <td>0.998574</td>\n",
       "      <td>NEGATIVE</td>\n",
       "    </tr>\n",
       "    <tr>\n",
       "      <th>81</th>\n",
       "      <td>pos</td>\n",
       "      <td>the deer hunter , directed by michael cimino ,...</td>\n",
       "      <td>1</td>\n",
       "      <td>0.999995</td>\n",
       "      <td>POSITIVE</td>\n",
       "    </tr>\n",
       "    <tr>\n",
       "      <th>687</th>\n",
       "      <td>pos</td>\n",
       "      <td>it shows that america remains ambivalent over ...</td>\n",
       "      <td>1</td>\n",
       "      <td>0.681157</td>\n",
       "      <td>NEGATIVE</td>\n",
       "    </tr>\n",
       "    <tr>\n",
       "      <th>474</th>\n",
       "      <td>neg</td>\n",
       "      <td>\" deep rising \" gives you that sinking feelin...</td>\n",
       "      <td>0</td>\n",
       "      <td>0.999926</td>\n",
       "      <td>NEGATIVE</td>\n",
       "    </tr>\n",
       "    <tr>\n",
       "      <th>613</th>\n",
       "      <td>neg</td>\n",
       "      <td>once upon a time jean-claude van damme was a d...</td>\n",
       "      <td>0</td>\n",
       "      <td>0.999992</td>\n",
       "      <td>NEGATIVE</td>\n",
       "    </tr>\n",
       "    <tr>\n",
       "      <th>1274</th>\n",
       "      <td>pos</td>\n",
       "      <td>originally titled 'don't lose your head' , thi...</td>\n",
       "      <td>1</td>\n",
       "      <td>0.996219</td>\n",
       "      <td>POSITIVE</td>\n",
       "    </tr>\n",
       "    <tr>\n",
       "      <th>773</th>\n",
       "      <td>pos</td>\n",
       "      <td>another 'independent film' , this comedy , whi...</td>\n",
       "      <td>1</td>\n",
       "      <td>0.999979</td>\n",
       "      <td>POSITIVE</td>\n",
       "    </tr>\n",
       "    <tr>\n",
       "      <th>1939</th>\n",
       "      <td>neg</td>\n",
       "      <td>kate ( jennifer aniston ) is having some probl...</td>\n",
       "      <td>0</td>\n",
       "      <td>0.999293</td>\n",
       "      <td>NEGATIVE</td>\n",
       "    </tr>\n",
       "    <tr>\n",
       "      <th>88</th>\n",
       "      <td>neg</td>\n",
       "      <td>\" goodbye , lover \" sat on the shelf for almo...</td>\n",
       "      <td>0</td>\n",
       "      <td>0.999986</td>\n",
       "      <td>NEGATIVE</td>\n",
       "    </tr>\n",
       "    <tr>\n",
       "      <th>171</th>\n",
       "      <td>pos</td>\n",
       "      <td>a group of high school kids mix up with a grou...</td>\n",
       "      <td>1</td>\n",
       "      <td>0.999498</td>\n",
       "      <td>POSITIVE</td>\n",
       "    </tr>\n",
       "    <tr>\n",
       "      <th>1417</th>\n",
       "      <td>neg</td>\n",
       "      <td>post-chasing amy , a slew of love-triangle mov...</td>\n",
       "      <td>0</td>\n",
       "      <td>0.997107</td>\n",
       "      <td>NEGATIVE</td>\n",
       "    </tr>\n",
       "    <tr>\n",
       "      <th>1309</th>\n",
       "      <td>neg</td>\n",
       "      <td>in times of crisis people are driven to desper...</td>\n",
       "      <td>0</td>\n",
       "      <td>0.999929</td>\n",
       "      <td>NEGATIVE</td>\n",
       "    </tr>\n",
       "  </tbody>\n",
       "</table>\n",
       "</div>"
      ],
      "text/plain": [
       "     label                                             review  Binary  \\\n",
       "8      neg  in \" gia \" , angelina jolie plays the titular ...       0   \n",
       "1745   neg  sean connery stars as a harvard law professor ...       0   \n",
       "1175   neg  the previews for the movie are pretty good . \\...       0   \n",
       "1370   neg  susan granger's review of \" glitter \" ( 20th c...       0   \n",
       "1131   neg  a few months before the release of star wars e...       0   \n",
       "1938   neg  capsule : liebes meets tod . \\r\\nthis was a fi...       0   \n",
       "1345   neg  the first scene of operation condor has jackie...       0   \n",
       "238    pos  a frequent error is the categorization of a te...       1   \n",
       "253    pos  the \" italian hitchcock \" and acknowledged mas...       1   \n",
       "843    neg  chris tucker is one of those guys you immediat...       0   \n",
       "514    neg  an attempt at florida film noir , palmetto fai...       0   \n",
       "559    neg  plot : a rich psychiatrist with a great home l...       0   \n",
       "1172   pos  the uncompromising nudity bared throughout pet...       1   \n",
       "719    pos  bruce willis and sixth sense director m . nigh...       1   \n",
       "421    neg  blatantly borrowing elements from 1993's \" lik...       0   \n",
       "27     pos  trees lounge is the directoral debut from one ...       1   \n",
       "832    pos  there's some movies i enjoy even though i know...       1   \n",
       "763    neg  one of the first films of 1999 is this mtv pic...       0   \n",
       "1750   neg  of course i knew this going in . \\r\\nwhy is it...       0   \n",
       "81     pos  the deer hunter , directed by michael cimino ,...       1   \n",
       "687    pos  it shows that america remains ambivalent over ...       1   \n",
       "474    neg   \" deep rising \" gives you that sinking feelin...       0   \n",
       "613    neg  once upon a time jean-claude van damme was a d...       0   \n",
       "1274   pos  originally titled 'don't lose your head' , thi...       1   \n",
       "773    pos  another 'independent film' , this comedy , whi...       1   \n",
       "1939   neg  kate ( jennifer aniston ) is having some probl...       0   \n",
       "88     neg   \" goodbye , lover \" sat on the shelf for almo...       0   \n",
       "171    pos  a group of high school kids mix up with a grou...       1   \n",
       "1417   neg  post-chasing amy , a slew of love-triangle mov...       0   \n",
       "1309   neg  in times of crisis people are driven to desper...       0   \n",
       "\n",
       "      Predicted_scores_Flair predicted_labels  \n",
       "8                   0.999978         NEGATIVE  \n",
       "1745                0.999644         NEGATIVE  \n",
       "1175                0.996662         NEGATIVE  \n",
       "1370                0.999986         NEGATIVE  \n",
       "1131                0.999998         NEGATIVE  \n",
       "1938                0.999894         NEGATIVE  \n",
       "1345                0.961531         NEGATIVE  \n",
       "238                 0.965852         NEGATIVE  \n",
       "253                 0.998083         POSITIVE  \n",
       "843                 0.999173         NEGATIVE  \n",
       "514                 0.999997         NEGATIVE  \n",
       "559                 0.999985         NEGATIVE  \n",
       "1172                0.991391         POSITIVE  \n",
       "719                 0.999278         POSITIVE  \n",
       "421                 0.999828         NEGATIVE  \n",
       "27                  0.658362         POSITIVE  \n",
       "832                 0.972068         NEGATIVE  \n",
       "763                 0.999854         NEGATIVE  \n",
       "1750                0.998574         NEGATIVE  \n",
       "81                  0.999995         POSITIVE  \n",
       "687                 0.681157         NEGATIVE  \n",
       "474                 0.999926         NEGATIVE  \n",
       "613                 0.999992         NEGATIVE  \n",
       "1274                0.996219         POSITIVE  \n",
       "773                 0.999979         POSITIVE  \n",
       "1939                0.999293         NEGATIVE  \n",
       "88                  0.999986         NEGATIVE  \n",
       "171                 0.999498         POSITIVE  \n",
       "1417                0.997107         NEGATIVE  \n",
       "1309                0.999929         NEGATIVE  "
      ]
     },
     "execution_count": 45,
     "metadata": {},
     "output_type": "execute_result"
    }
   ],
   "source": [
    "data_sample"
   ]
  },
  {
   "cell_type": "markdown",
   "metadata": {
    "id": "-1Wp2zw9Wbti"
   },
   "source": [
    "## Non neural models"
   ]
  },
  {
   "cell_type": "code",
   "execution_count": 46,
   "metadata": {
    "id": "Ff8dctuYdwWe"
   },
   "outputs": [],
   "source": [
    "#SVMs, Random Forests, and Naive Bayes"
   ]
  },
  {
   "cell_type": "code",
   "execution_count": 47,
   "metadata": {
    "id": "GdPDDL6hX4e4"
   },
   "outputs": [],
   "source": [
    "data = data.dropna()"
   ]
  },
  {
   "cell_type": "code",
   "execution_count": 48,
   "metadata": {},
   "outputs": [
    {
     "data": {
      "text/plain": [
       "pandas.core.series.Series"
      ]
     },
     "execution_count": 48,
     "metadata": {},
     "output_type": "execute_result"
    }
   ],
   "source": [
    "type(data['review'])"
   ]
  },
  {
   "cell_type": "code",
   "execution_count": 49,
   "metadata": {
    "id": "xNZ7ixyiSp6i"
   },
   "outputs": [],
   "source": [
    "X = data['review']\n",
    "y = data['Binary']"
   ]
  },
  {
   "cell_type": "code",
   "execution_count": 50,
   "metadata": {
    "id": "3YLZEy0cVo-P"
   },
   "outputs": [],
   "source": [
    "from sklearn.model_selection import train_test_split"
   ]
  },
  {
   "cell_type": "code",
   "execution_count": 51,
   "metadata": {
    "id": "EVeu2qfyWMVT"
   },
   "outputs": [],
   "source": [
    "X_train, X_test, y_train, y_test = train_test_split(X, y, test_size = 0.4, random_state = 42)  "
   ]
  },
  {
   "cell_type": "code",
   "execution_count": 52,
   "metadata": {},
   "outputs": [
    {
     "data": {
      "text/plain": [
       "pandas.core.series.Series"
      ]
     },
     "execution_count": 52,
     "metadata": {},
     "output_type": "execute_result"
    }
   ],
   "source": [
    "type(X_train)"
   ]
  },
  {
   "cell_type": "code",
   "execution_count": 53,
   "metadata": {},
   "outputs": [
    {
     "data": {
      "text/plain": [
       "(786,)"
      ]
     },
     "execution_count": 53,
     "metadata": {},
     "output_type": "execute_result"
    }
   ],
   "source": [
    "X_test.shape"
   ]
  },
  {
   "cell_type": "code",
   "execution_count": 54,
   "metadata": {},
   "outputs": [
    {
     "data": {
      "text/plain": [
       "(786,)"
      ]
     },
     "execution_count": 54,
     "metadata": {},
     "output_type": "execute_result"
    }
   ],
   "source": [
    "y_test.shape"
   ]
  },
  {
   "cell_type": "markdown",
   "metadata": {
    "id": "_xai6A26WU3j"
   },
   "source": [
    "### Decision Tree"
   ]
  },
  {
   "cell_type": "code",
   "execution_count": 55,
   "metadata": {
    "id": "7esgM1W3WQsp"
   },
   "outputs": [],
   "source": [
    "from sklearn.tree import DecisionTreeClassifier\n",
    "from sklearn import tree\n",
    "from sklearn.feature_extraction.text import TfidfVectorizer, CountVectorizer\n",
    "\n",
    "from sklearn.metrics import confusion_matrix\n",
    "from sklearn.metrics import classification_report\n",
    "\n",
    "from sklearn.model_selection import cross_val_score\n",
    "from sklearn.model_selection import cross_val_predict\n",
    "from sklearn.model_selection import train_test_split"
   ]
  },
  {
   "cell_type": "code",
   "execution_count": 56,
   "metadata": {},
   "outputs": [
    {
     "name": "stdout",
     "output_type": "stream",
     "text": [
      "              precision    recall  f1-score   support\n",
      "\n",
      "           0       0.60      0.68      0.64       387\n",
      "           1       0.64      0.56      0.60       399\n",
      "\n",
      "    accuracy                           0.62       786\n",
      "   macro avg       0.62      0.62      0.62       786\n",
      "weighted avg       0.62      0.62      0.62       786\n",
      "\n"
     ]
    }
   ],
   "source": [
    "vectorizer = CountVectorizer()\n",
    "dt = DecisionTreeClassifier()\n",
    "X_train = vectorizer.fit_transform(X_train)\n",
    "X_test = vectorizer.transform(X_test)\n",
    "_ = dt.fit(X_train, y_train)\n",
    "y_pred = dt.predict(X_test)\n",
    "print(classification_report(y_test, y_pred))"
   ]
  },
  {
   "cell_type": "code",
   "execution_count": 57,
   "metadata": {},
   "outputs": [
    {
     "data": {
      "text/plain": [
       "786"
      ]
     },
     "execution_count": 57,
     "metadata": {},
     "output_type": "execute_result"
    }
   ],
   "source": [
    "len(y_pred)"
   ]
  },
  {
   "cell_type": "code",
   "execution_count": 58,
   "metadata": {},
   "outputs": [
    {
     "data": {
      "text/plain": [
       "1965"
      ]
     },
     "execution_count": 58,
     "metadata": {},
     "output_type": "execute_result"
    }
   ],
   "source": [
    "len(data['review'])"
   ]
  },
  {
   "cell_type": "code",
   "execution_count": 59,
   "metadata": {},
   "outputs": [
    {
     "data": {
      "image/png": "[encoded data removed]",
      "text/plain": [
       "<Figure size 540x540 with 1 Axes>"
      ]
     },
     "metadata": {
      "needs_background": "light"
     },
     "output_type": "display_data"
    }
   ],
   "source": [
    "import matplotlib.pyplot as plt\n",
    "conf_matrix = confusion_matrix(y_true=y_test, y_pred=y_pred)\n",
    "#\n",
    "# Print the confusion matrix using Matplotlib\n",
    "#\n",
    "fig, ax = plt.subplots(figsize=(7.5, 7.5))\n",
    "ax.matshow(conf_matrix, cmap=plt.cm.Blues, alpha=0.3)\n",
    "for i in range(conf_matrix.shape[0]):\n",
    "    for j in range(conf_matrix.shape[1]):\n",
    "        ax.text(x=j, y=i,s=conf_matrix[i, j], va='center', ha='center', size='xx-large')\n",
    " \n",
    "plt.xlabel('Predictions', fontsize=18)\n",
    "plt.ylabel('Actuals', fontsize=18)\n",
    "plt.title('Confusion Matrix', fontsize=18)\n",
    "plt.show()"
   ]
  },
  {
   "cell_type": "markdown",
   "metadata": {
    "id": "WV--VvSnVpHr"
   },
   "source": [
    "### Naive Bayes"
   ]
  },
  {
   "cell_type": "code",
   "execution_count": 60,
   "metadata": {
    "colab": {
     "base_uri": "https://localhost:8080/"
    },
    "id": "Srd4N-lTWQpO",
    "outputId": "47c289d5-6537-47a1-8814-88f9289a5b5b"
   },
   "outputs": [
    {
     "data": {
      "text/html": [
       "<style>#sk-container-id-1 {color: black;background-color: white;}#sk-container-id-1 pre{padding: 0;}#sk-container-id-1 div.sk-toggleable {background-color: white;}#sk-container-id-1 label.sk-toggleable__label {cursor: pointer;display: block;width: 100%;margin-bottom: 0;padding: 0.3em;box-sizing: border-box;text-align: center;}#sk-container-id-1 label.sk-toggleable__label-arrow:before {content: \"▸\";float: left;margin-right: 0.25em;color: #696969;}#sk-container-id-1 label.sk-toggleable__label-arrow:hover:before {color: black;}#sk-container-id-1 div.sk-estimator:hover label.sk-toggleable__label-arrow:before {color: black;}#sk-container-id-1 div.sk-toggleable__content {max-height: 0;max-width: 0;overflow: hidden;text-align: left;background-color: #f0f8ff;}#sk-container-id-1 div.sk-toggleable__content pre {margin: 0.2em;color: black;border-radius: 0.25em;background-color: #f0f8ff;}#sk-container-id-1 input.sk-toggleable__control:checked~div.sk-toggleable__content {max-height: 200px;max-width: 100%;overflow: auto;}#sk-container-id-1 input.sk-toggleable__control:checked~label.sk-toggleable__label-arrow:before {content: \"▾\";}#sk-container-id-1 div.sk-estimator input.sk-toggleable__control:checked~label.sk-toggleable__label {background-color: #d4ebff;}#sk-container-id-1 div.sk-label input.sk-toggleable__control:checked~label.sk-toggleable__label {background-color: #d4ebff;}#sk-container-id-1 input.sk-hidden--visually {border: 0;clip: rect(1px 1px 1px 1px);clip: rect(1px, 1px, 1px, 1px);height: 1px;margin: -1px;overflow: hidden;padding: 0;position: absolute;width: 1px;}#sk-container-id-1 div.sk-estimator {font-family: monospace;background-color: #f0f8ff;border: 1px dotted black;border-radius: 0.25em;box-sizing: border-box;margin-bottom: 0.5em;}#sk-container-id-1 div.sk-estimator:hover {background-color: #d4ebff;}#sk-container-id-1 div.sk-parallel-item::after {content: \"\";width: 100%;border-bottom: 1px solid gray;flex-grow: 1;}#sk-container-id-1 div.sk-label:hover label.sk-toggleable__label {background-color: #d4ebff;}#sk-container-id-1 div.sk-serial::before {content: \"\";position: absolute;border-left: 1px solid gray;box-sizing: border-box;top: 0;bottom: 0;left: 50%;z-index: 0;}#sk-container-id-1 div.sk-serial {display: flex;flex-direction: column;align-items: center;background-color: white;padding-right: 0.2em;padding-left: 0.2em;position: relative;}#sk-container-id-1 div.sk-item {position: relative;z-index: 1;}#sk-container-id-1 div.sk-parallel {display: flex;align-items: stretch;justify-content: center;background-color: white;position: relative;}#sk-container-id-1 div.sk-item::before, #sk-container-id-1 div.sk-parallel-item::before {content: \"\";position: absolute;border-left: 1px solid gray;box-sizing: border-box;top: 0;bottom: 0;left: 50%;z-index: -1;}#sk-container-id-1 div.sk-parallel-item {display: flex;flex-direction: column;z-index: 1;position: relative;background-color: white;}#sk-container-id-1 div.sk-parallel-item:first-child::after {align-self: flex-end;width: 50%;}#sk-container-id-1 div.sk-parallel-item:last-child::after {align-self: flex-start;width: 50%;}#sk-container-id-1 div.sk-parallel-item:only-child::after {width: 0;}#sk-container-id-1 div.sk-dashed-wrapped {border: 1px dashed gray;margin: 0 0.4em 0.5em 0.4em;box-sizing: border-box;padding-bottom: 0.4em;background-color: white;}#sk-container-id-1 div.sk-label label {font-family: monospace;font-weight: bold;display: inline-block;line-height: 1.2em;}#sk-container-id-1 div.sk-label-container {text-align: center;}#sk-container-id-1 div.sk-container {/* jupyter's `normalize.less` sets `[hidden] { display: none; }` but bootstrap.min.css set `[hidden] { display: none !important; }` so we also need the `!important` here to be able to override the default hidden behavior on the sphinx rendered scikit-learn.org. See: https://github.com/scikit-learn/scikit-learn/issues/21755 */display: inline-block !important;position: relative;}#sk-container-id-1 div.sk-text-repr-fallback {display: none;}</style><div id=\"sk-container-id-1\" class=\"sk-top-container\"><div class=\"sk-text-repr-fallback\"><pre>MultinomialNB()</pre><b>In a Jupyter environment, please rerun this cell to show the HTML representation or trust the notebook. <br />On GitHub, the HTML representation is unable to render, please try loading this page with nbviewer.org.</b></div><div class=\"sk-container\" hidden><div class=\"sk-item\"><div class=\"sk-estimator sk-toggleable\"><input class=\"sk-toggleable__control sk-hidden--visually\" id=\"sk-estimator-id-1\" type=\"checkbox\" checked><label for=\"sk-estimator-id-1\" class=\"sk-toggleable__label sk-toggleable__label-arrow\">MultinomialNB</label><div class=\"sk-toggleable__content\"><pre>MultinomialNB()</pre></div></div></div></div></div>"
      ],
      "text/plain": [
       "MultinomialNB()"
      ]
     },
     "execution_count": 60,
     "metadata": {},
     "output_type": "execute_result"
    }
   ],
   "source": [
    "from sklearn.naive_bayes import MultinomialNB\n",
    "\n",
    "model = MultinomialNB()\n",
    "model.fit(X_train, y_train)"
   ]
  },
  {
   "cell_type": "code",
   "execution_count": 61,
   "metadata": {
    "id": "s0so48j9Yvgq"
   },
   "outputs": [],
   "source": [
    "import sklearn"
   ]
  },
  {
   "cell_type": "code",
   "execution_count": 62,
   "metadata": {
    "colab": {
     "base_uri": "https://localhost:8080/",
     "height": 314
    },
    "id": "7-BzpHbMTpsI",
    "outputId": "487efa66-5460-4223-d6b3-3f3daaade87a"
   },
   "outputs": [
    {
     "data": {
      "text/plain": [
       "0.8053435114503816"
      ]
     },
     "execution_count": 62,
     "metadata": {},
     "output_type": "execute_result"
    }
   ],
   "source": [
    "model.score(X_test, y_test)"
   ]
  },
  {
   "cell_type": "code",
   "execution_count": 63,
   "metadata": {
    "id": "sC5v29MqTvFQ"
   },
   "outputs": [
    {
     "name": "stdout",
     "output_type": "stream",
     "text": [
      "              precision    recall  f1-score   support\n",
      "\n",
      "           0       0.78      0.84      0.81       387\n",
      "           1       0.83      0.77      0.80       399\n",
      "\n",
      "    accuracy                           0.81       786\n",
      "   macro avg       0.81      0.81      0.81       786\n",
      "weighted avg       0.81      0.81      0.81       786\n",
      "\n"
     ]
    }
   ],
   "source": [
    "y_pred2 = model.predict(X_test)\n",
    "print(classification_report(y_test, y_pred2))"
   ]
  },
  {
   "cell_type": "code",
   "execution_count": 64,
   "metadata": {},
   "outputs": [
    {
     "data": {
      "image/png": "[encoded data removed]",
      "text/plain": [
       "<Figure size 540x540 with 1 Axes>"
      ]
     },
     "metadata": {
      "needs_background": "light"
     },
     "output_type": "display_data"
    }
   ],
   "source": [
    "conf_matrix = confusion_matrix(y_true=y_test, y_pred=y_pred2)\n",
    "#\n",
    "# Print the confusion matrix using Matplotlib\n",
    "#\n",
    "fig, ax = plt.subplots(figsize=(7.5, 7.5))\n",
    "ax.matshow(conf_matrix, cmap=plt.cm.Blues, alpha=0.3)\n",
    "for i in range(conf_matrix.shape[0]):\n",
    "    for j in range(conf_matrix.shape[1]):\n",
    "        ax.text(x=j, y=i,s=conf_matrix[i, j], va='center', ha='center', size='xx-large')\n",
    " \n",
    "plt.xlabel('Predictions', fontsize=18)\n",
    "plt.ylabel('Actuals', fontsize=18)\n",
    "plt.title('Confusion Matrix', fontsize=18)\n",
    "plt.show()"
   ]
  },
  {
   "cell_type": "markdown",
   "metadata": {},
   "source": [
    "### TextBlob"
   ]
  },
  {
   "cell_type": "code",
   "execution_count": 80,
   "metadata": {},
   "outputs": [
    {
     "data": {
      "text/plain": [
       "TextBlob(\"how do films like mouse hunt get into theatres ? \n",
       "isn't there a law or something ? \n",
       "this diabolical load of claptrap from steven speilberg's dreamworks studio is hollywood family fare at its deadly worst . \n",
       "mouse hunt takes the bare threads of a plot and tries to prop it up with overacting and flat-out stupid slapstick that makes comedies like jingle all the way look decent by comparison . \n",
       "writer adam rifkin and director gore verbinski are the names chiefly responsible for this swill . \n",
       "the plot , for what its worth , concerns two brothers ( nathan lane and an appalling lee evens ) who inherit a poorly run string factory and a seemingly worthless house from their eccentric father . \n",
       "deciding to check out the long-abandoned house , they soon learn that it's worth a fortune and set about selling it in auction to the highest bidder . \n",
       "but battling them at every turn is a very smart mouse , happy with his run-down little abode and wanting it to stay that way . \n",
       "the story alternates between unfunny scenes of the brothers bickering over what to do with their inheritance and endless action sequences as the two take on their increasingly determined furry foe . \n",
       "whatever promise the film starts with soon deteriorates into boring dialogue , terrible overacting , and increasingly uninspired slapstick that becomes all sound and fury , signifying nothing . \n",
       "the script becomes so unspeakably bad that the best line poor lee evens can utter after another run in with the rodent is : \" i hate that mouse \" . \n",
       "oh cringe ! \n",
       "this is home alone all over again , and ten times worse . \n",
       "one touching scene early on is worth mentioning . \n",
       "we follow the mouse through a maze of walls and pipes until he arrives at his makeshift abode somewhere in a wall . \n",
       "he jumps into a tiny bed , pulls up a makeshift sheet and snuggles up to sleep , seemingly happy and just wanting to be left alone . \n",
       "it's a magical little moment in an otherwise soulless film . \n",
       "a message to speilberg : if you want dreamworks to be associated with some kind of artistic credibility , then either give all concerned in mouse hunt a swift kick up the arse or hire yourself some decent writers and directors . \n",
       "this kind of rubbish will just not do at all . \n",
       "\")"
      ]
     },
     "execution_count": 80,
     "metadata": {},
     "output_type": "execute_result"
    }
   ],
   "source": [
    "textblob = TextBlob(data['review'][0])\n",
    "textblob"
   ]
  },
  {
   "cell_type": "code",
   "execution_count": 76,
   "metadata": {},
   "outputs": [
    {
     "name": "stdout",
     "output_type": "stream",
     "text": [
      "Sentiment(polarity=-0.03792102206736352, subjectivity=0.6106271777003484)\n"
     ]
    }
   ],
   "source": [
    "print(textblob.sentiment)"
   ]
  }
 ],
 "metadata": {
  "colab": {
   "provenance": []
  },
  "kernelspec": {
   "display_name": "Python 3 (ipykernel)",
   "language": "python",
   "name": "python3"
  },
  "language_info": {
   "codemirror_mode": {
    "name": "ipython",
    "version": 3
   },
   "file_extension": ".py",
   "mimetype": "text/x-python",
   "name": "python",
   "nbconvert_exporter": "python",
   "pygments_lexer": "ipython3",
   "version": "3.8.10"
  },
  "widgets": {
   "application/vnd.jupyter.widget-state+json": {
    "02221d0f5d094cd2ab76dac9d0cc5737": {
     "model_module": "@jupyter-widgets/base",
     "model_module_version": "1.2.0",
     "model_name": "LayoutModel",
     "state": {
      "_model_module": "@jupyter-widgets/base",
      "_model_module_version": "1.2.0",
      "_model_name": "LayoutModel",
      "_view_count": null,
      "_view_module": "@jupyter-widgets/base",
      "_view_module_version": "1.2.0",
      "_view_name": "LayoutView",
      "align_content": null,
      "align_items": null,
      "align_self": null,
      "border": null,
      "bottom": null,
      "display": null,
      "flex": null,
      "flex_flow": null,
      "grid_area": null,
      "grid_auto_columns": null,
      "grid_auto_flow": null,
      "grid_auto_rows": null,
      "grid_column": null,
      "grid_gap": null,
      "grid_row": null,
      "grid_template_areas": null,
      "grid_template_columns": null,
      "grid_template_rows": null,
      "height": null,
      "justify_content": null,
      "justify_items": null,
      "left": null,
      "margin": null,
      "max_height": null,
      "max_width": null,
      "min_height": null,
      "min_width": null,
      "object_fit": null,
      "object_position": null,
      "order": null,
      "overflow": null,
      "overflow_x": null,
      "overflow_y": null,
      "padding": null,
      "right": null,
      "top": null,
      "visibility": null,
      "width": null
     }
    },
    "023b587e0b6e41e5b6243dbc1882299f": {
     "model_module": "@jupyter-widgets/base",
     "model_module_version": "1.2.0",
     "model_name": "LayoutModel",
     "state": {
      "_model_module": "@jupyter-widgets/base",
      "_model_module_version": "1.2.0",
      "_model_name": "LayoutModel",
      "_view_count": null,
      "_view_module": "@jupyter-widgets/base",
      "_view_module_version": "1.2.0",
      "_view_name": "LayoutView",
      "align_content": null,
      "align_items": null,
      "align_self": null,
      "border": null,
      "bottom": null,
      "display": null,
      "flex": null,
      "flex_flow": null,
      "grid_area": null,
      "grid_auto_columns": null,
      "grid_auto_flow": null,
      "grid_auto_rows": null,
      "grid_column": null,
      "grid_gap": null,
      "grid_row": null,
      "grid_template_areas": null,
      "grid_template_columns": null,
      "grid_template_rows": null,
      "height": null,
      "justify_content": null,
      "justify_items": null,
      "left": null,
      "margin": null,
      "max_height": null,
      "max_width": null,
      "min_height": null,
      "min_width": null,
      "object_fit": null,
      "object_position": null,
      "order": null,
      "overflow": null,
      "overflow_x": null,
      "overflow_y": null,
      "padding": null,
      "right": null,
      "top": null,
      "visibility": null,
      "width": null
     }
    },
    "044994e7c2fc4e33976c0b704ddd15ee": {
     "model_module": "@jupyter-widgets/controls",
     "model_module_version": "1.5.0",
     "model_name": "FloatProgressModel",
     "state": {
      "_dom_classes": [],
      "_model_module": "@jupyter-widgets/controls",
      "_model_module_version": "1.5.0",
      "_model_name": "FloatProgressModel",
      "_view_count": null,
      "_view_module": "@jupyter-widgets/controls",
      "_view_module_version": "1.5.0",
      "_view_name": "ProgressView",
      "bar_style": "success",
      "description": "",
      "description_tooltip": null,
      "layout": "IPY_MODEL_788522216ff74ed3b59dfb8d13b9b60d",
      "max": 483,
      "min": 0,
      "orientation": "horizontal",
      "style": "IPY_MODEL_e13c19242fd64b088aa69056ed2d6ae8",
      "value": 483
     }
    },
    "0de8fd55fe4743219a92b9fed5d12645": {
     "model_module": "@jupyter-widgets/controls",
     "model_module_version": "1.5.0",
     "model_name": "ProgressStyleModel",
     "state": {
      "_model_module": "@jupyter-widgets/controls",
      "_model_module_version": "1.5.0",
      "_model_name": "ProgressStyleModel",
      "_view_count": null,
      "_view_module": "@jupyter-widgets/base",
      "_view_module_version": "1.2.0",
      "_view_name": "StyleView",
      "bar_color": null,
      "description_width": ""
     }
    },
    "1231b88b16844708af34511dabc5f495": {
     "model_module": "@jupyter-widgets/controls",
     "model_module_version": "1.5.0",
     "model_name": "DescriptionStyleModel",
     "state": {
      "_model_module": "@jupyter-widgets/controls",
      "_model_module_version": "1.5.0",
      "_model_name": "DescriptionStyleModel",
      "_view_count": null,
      "_view_module": "@jupyter-widgets/base",
      "_view_module_version": "1.2.0",
      "_view_name": "StyleView",
      "description_width": ""
     }
    },
    "26fbc91dadb24681a7fcfcf99de356dc": {
     "model_module": "@jupyter-widgets/base",
     "model_module_version": "1.2.0",
     "model_name": "LayoutModel",
     "state": {
      "_model_module": "@jupyter-widgets/base",
      "_model_module_version": "1.2.0",
      "_model_name": "LayoutModel",
      "_view_count": null,
      "_view_module": "@jupyter-widgets/base",
      "_view_module_version": "1.2.0",
      "_view_name": "LayoutView",
      "align_content": null,
      "align_items": null,
      "align_self": null,
      "border": null,
      "bottom": null,
      "display": null,
      "flex": null,
      "flex_flow": null,
      "grid_area": null,
      "grid_auto_columns": null,
      "grid_auto_flow": null,
      "grid_auto_rows": null,
      "grid_column": null,
      "grid_gap": null,
      "grid_row": null,
      "grid_template_areas": null,
      "grid_template_columns": null,
      "grid_template_rows": null,
      "height": null,
      "justify_content": null,
      "justify_items": null,
      "left": null,
      "margin": null,
      "max_height": null,
      "max_width": null,
      "min_height": null,
      "min_width": null,
      "object_fit": null,
      "object_position": null,
      "order": null,
      "overflow": null,
      "overflow_x": null,
      "overflow_y": null,
      "padding": null,
      "right": null,
      "top": null,
      "visibility": null,
      "width": null
     }
    },
    "29699c49d9ad4aeba9c6bd8e4c232fb0": {
     "model_module": "@jupyter-widgets/controls",
     "model_module_version": "1.5.0",
     "model_name": "ProgressStyleModel",
     "state": {
      "_model_module": "@jupyter-widgets/controls",
      "_model_module_version": "1.5.0",
      "_model_name": "ProgressStyleModel",
      "_view_count": null,
      "_view_module": "@jupyter-widgets/base",
      "_view_module_version": "1.2.0",
      "_view_name": "StyleView",
      "bar_color": null,
      "description_width": ""
     }
    },
    "2c51353d88c04cd2b74d81d9e281b0a6": {
     "model_module": "@jupyter-widgets/controls",
     "model_module_version": "1.5.0",
     "model_name": "HTMLModel",
     "state": {
      "_dom_classes": [],
      "_model_module": "@jupyter-widgets/controls",
      "_model_module_version": "1.5.0",
      "_model_name": "HTMLModel",
      "_view_count": null,
      "_view_module": "@jupyter-widgets/controls",
      "_view_module_version": "1.5.0",
      "_view_name": "HTMLView",
      "description": "",
      "description_tooltip": null,
      "layout": "IPY_MODEL_dedead2a3d094ad1b8b65101f761e360",
      "placeholder": "​",
      "style": "IPY_MODEL_1231b88b16844708af34511dabc5f495",
      "value": "Downloading: 100%"
     }
    },
    "2eca1c30390141e39b7d6d6090af9fb6": {
     "model_module": "@jupyter-widgets/controls",
     "model_module_version": "1.5.0",
     "model_name": "FloatProgressModel",
     "state": {
      "_dom_classes": [],
      "_model_module": "@jupyter-widgets/controls",
      "_model_module_version": "1.5.0",
      "_model_name": "FloatProgressModel",
      "_view_count": null,
      "_view_module": "@jupyter-widgets/controls",
      "_view_module_version": "1.5.0",
      "_view_name": "ProgressView",
      "bar_style": "success",
      "description": "",
      "description_tooltip": null,
      "layout": "IPY_MODEL_b20127b5f9ba4b6aaa9be214085a4669",
      "max": 466062,
      "min": 0,
      "orientation": "horizontal",
      "style": "IPY_MODEL_0de8fd55fe4743219a92b9fed5d12645",
      "value": 466062
     }
    },
    "34c1ff67c5074ff4a85870201ac2dbd1": {
     "model_module": "@jupyter-widgets/base",
     "model_module_version": "1.2.0",
     "model_name": "LayoutModel",
     "state": {
      "_model_module": "@jupyter-widgets/base",
      "_model_module_version": "1.2.0",
      "_model_name": "LayoutModel",
      "_view_count": null,
      "_view_module": "@jupyter-widgets/base",
      "_view_module_version": "1.2.0",
      "_view_name": "LayoutView",
      "align_content": null,
      "align_items": null,
      "align_self": null,
      "border": null,
      "bottom": null,
      "display": null,
      "flex": null,
      "flex_flow": null,
      "grid_area": null,
      "grid_auto_columns": null,
      "grid_auto_flow": null,
      "grid_auto_rows": null,
      "grid_column": null,
      "grid_gap": null,
      "grid_row": null,
      "grid_template_areas": null,
      "grid_template_columns": null,
      "grid_template_rows": null,
      "height": null,
      "justify_content": null,
      "justify_items": null,
      "left": null,
      "margin": null,
      "max_height": null,
      "max_width": null,
      "min_height": null,
      "min_width": null,
      "object_fit": null,
      "object_position": null,
      "order": null,
      "overflow": null,
      "overflow_x": null,
      "overflow_y": null,
      "padding": null,
      "right": null,
      "top": null,
      "visibility": null,
      "width": null
     }
    },
    "35297d94b8464014b46466f90eb76101": {
     "model_module": "@jupyter-widgets/base",
     "model_module_version": "1.2.0",
     "model_name": "LayoutModel",
     "state": {
      "_model_module": "@jupyter-widgets/base",
      "_model_module_version": "1.2.0",
      "_model_name": "LayoutModel",
      "_view_count": null,
      "_view_module": "@jupyter-widgets/base",
      "_view_module_version": "1.2.0",
      "_view_name": "LayoutView",
      "align_content": null,
      "align_items": null,
      "align_self": null,
      "border": null,
      "bottom": null,
      "display": null,
      "flex": null,
      "flex_flow": null,
      "grid_area": null,
      "grid_auto_columns": null,
      "grid_auto_flow": null,
      "grid_auto_rows": null,
      "grid_column": null,
      "grid_gap": null,
      "grid_row": null,
      "grid_template_areas": null,
      "grid_template_columns": null,
      "grid_template_rows": null,
      "height": null,
      "justify_content": null,
      "justify_items": null,
      "left": null,
      "margin": null,
      "max_height": null,
      "max_width": null,
      "min_height": null,
      "min_width": null,
      "object_fit": null,
      "object_position": null,
      "order": null,
      "overflow": null,
      "overflow_x": null,
      "overflow_y": null,
      "padding": null,
      "right": null,
      "top": null,
      "visibility": null,
      "width": null
     }
    },
    "375b50d46f164ee3bff697c813303a0b": {
     "model_module": "@jupyter-widgets/controls",
     "model_module_version": "1.5.0",
     "model_name": "HBoxModel",
     "state": {
      "_dom_classes": [],
      "_model_module": "@jupyter-widgets/controls",
      "_model_module_version": "1.5.0",
      "_model_name": "HBoxModel",
      "_view_count": null,
      "_view_module": "@jupyter-widgets/controls",
      "_view_module_version": "1.5.0",
      "_view_name": "HBoxView",
      "box_style": "",
      "children": [
       "IPY_MODEL_eb566fdb19914459bd9f6a549fca8877",
       "IPY_MODEL_2eca1c30390141e39b7d6d6090af9fb6",
       "IPY_MODEL_bd1bf1e4b1eb4c22896d823e30947afc"
      ],
      "layout": "IPY_MODEL_9b153c6ff1e54fbeb7ed9049ab30abbd"
     }
    },
    "39ad5bbe521c4050acd64c150bef5f65": {
     "model_module": "@jupyter-widgets/controls",
     "model_module_version": "1.5.0",
     "model_name": "DescriptionStyleModel",
     "state": {
      "_model_module": "@jupyter-widgets/controls",
      "_model_module_version": "1.5.0",
      "_model_name": "DescriptionStyleModel",
      "_view_count": null,
      "_view_module": "@jupyter-widgets/base",
      "_view_module_version": "1.2.0",
      "_view_name": "StyleView",
      "description_width": ""
     }
    },
    "4fbff100abc24c438a39ca43fffd2b5d": {
     "model_module": "@jupyter-widgets/controls",
     "model_module_version": "1.5.0",
     "model_name": "HTMLModel",
     "state": {
      "_dom_classes": [],
      "_model_module": "@jupyter-widgets/controls",
      "_model_module_version": "1.5.0",
      "_model_name": "HTMLModel",
      "_view_count": null,
      "_view_module": "@jupyter-widgets/controls",
      "_view_module_version": "1.5.0",
      "_view_name": "HTMLView",
      "description": "",
      "description_tooltip": null,
      "layout": "IPY_MODEL_02221d0f5d094cd2ab76dac9d0cc5737",
      "placeholder": "​",
      "style": "IPY_MODEL_edd53cf025d9451686afb69ad316ff8e",
      "value": "Downloading: 100%"
     }
    },
    "5678d08218544c649bcab1cf52d3107c": {
     "model_module": "@jupyter-widgets/controls",
     "model_module_version": "1.5.0",
     "model_name": "FloatProgressModel",
     "state": {
      "_dom_classes": [],
      "_model_module": "@jupyter-widgets/controls",
      "_model_module_version": "1.5.0",
      "_model_name": "FloatProgressModel",
      "_view_count": null,
      "_view_module": "@jupyter-widgets/controls",
      "_view_module_version": "1.5.0",
      "_view_name": "ProgressView",
      "bar_style": "success",
      "description": "",
      "description_tooltip": null,
      "layout": "IPY_MODEL_9736f958be654481995e5f5ed3cce5c9",
      "max": 28,
      "min": 0,
      "orientation": "horizontal",
      "style": "IPY_MODEL_29699c49d9ad4aeba9c6bd8e4c232fb0",
      "value": 28
     }
    },
    "581e7edaeb0041f9a9b5791d3eb48af7": {
     "model_module": "@jupyter-widgets/base",
     "model_module_version": "1.2.0",
     "model_name": "LayoutModel",
     "state": {
      "_model_module": "@jupyter-widgets/base",
      "_model_module_version": "1.2.0",
      "_model_name": "LayoutModel",
      "_view_count": null,
      "_view_module": "@jupyter-widgets/base",
      "_view_module_version": "1.2.0",
      "_view_name": "LayoutView",
      "align_content": null,
      "align_items": null,
      "align_self": null,
      "border": null,
      "bottom": null,
      "display": null,
      "flex": null,
      "flex_flow": null,
      "grid_area": null,
      "grid_auto_columns": null,
      "grid_auto_flow": null,
      "grid_auto_rows": null,
      "grid_column": null,
      "grid_gap": null,
      "grid_row": null,
      "grid_template_areas": null,
      "grid_template_columns": null,
      "grid_template_rows": null,
      "height": null,
      "justify_content": null,
      "justify_items": null,
      "left": null,
      "margin": null,
      "max_height": null,
      "max_width": null,
      "min_height": null,
      "min_width": null,
      "object_fit": null,
      "object_position": null,
      "order": null,
      "overflow": null,
      "overflow_x": null,
      "overflow_y": null,
      "padding": null,
      "right": null,
      "top": null,
      "visibility": null,
      "width": null
     }
    },
    "5ae48b367cd349aeaf8313efded78044": {
     "model_module": "@jupyter-widgets/controls",
     "model_module_version": "1.5.0",
     "model_name": "HBoxModel",
     "state": {
      "_dom_classes": [],
      "_model_module": "@jupyter-widgets/controls",
      "_model_module_version": "1.5.0",
      "_model_name": "HBoxModel",
      "_view_count": null,
      "_view_module": "@jupyter-widgets/controls",
      "_view_module_version": "1.5.0",
      "_view_name": "HBoxView",
      "box_style": "",
      "children": [
       "IPY_MODEL_8fd3f2c6741646dc8256c1730cd77c27",
       "IPY_MODEL_5678d08218544c649bcab1cf52d3107c",
       "IPY_MODEL_c80545cfc3d54fabad2789d3345fea86"
      ],
      "layout": "IPY_MODEL_c450f6caa5e846649e018e0ecdfe62f7"
     }
    },
    "5fda3b97d9fb4addb883d17e94ddfc35": {
     "model_module": "@jupyter-widgets/controls",
     "model_module_version": "1.5.0",
     "model_name": "DescriptionStyleModel",
     "state": {
      "_model_module": "@jupyter-widgets/controls",
      "_model_module_version": "1.5.0",
      "_model_name": "DescriptionStyleModel",
      "_view_count": null,
      "_view_module": "@jupyter-widgets/base",
      "_view_module_version": "1.2.0",
      "_view_name": "StyleView",
      "description_width": ""
     }
    },
    "67423aa579664729b1fcd74ac28c46cd": {
     "model_module": "@jupyter-widgets/base",
     "model_module_version": "1.2.0",
     "model_name": "LayoutModel",
     "state": {
      "_model_module": "@jupyter-widgets/base",
      "_model_module_version": "1.2.0",
      "_model_name": "LayoutModel",
      "_view_count": null,
      "_view_module": "@jupyter-widgets/base",
      "_view_module_version": "1.2.0",
      "_view_name": "LayoutView",
      "align_content": null,
      "align_items": null,
      "align_self": null,
      "border": null,
      "bottom": null,
      "display": null,
      "flex": null,
      "flex_flow": null,
      "grid_area": null,
      "grid_auto_columns": null,
      "grid_auto_flow": null,
      "grid_auto_rows": null,
      "grid_column": null,
      "grid_gap": null,
      "grid_row": null,
      "grid_template_areas": null,
      "grid_template_columns": null,
      "grid_template_rows": null,
      "height": null,
      "justify_content": null,
      "justify_items": null,
      "left": null,
      "margin": null,
      "max_height": null,
      "max_width": null,
      "min_height": null,
      "min_width": null,
      "object_fit": null,
      "object_position": null,
      "order": null,
      "overflow": null,
      "overflow_x": null,
      "overflow_y": null,
      "padding": null,
      "right": null,
      "top": null,
      "visibility": null,
      "width": null
     }
    },
    "67a498ba4f234ac895847316aa5e3a2f": {
     "model_module": "@jupyter-widgets/controls",
     "model_module_version": "1.5.0",
     "model_name": "HBoxModel",
     "state": {
      "_dom_classes": [],
      "_model_module": "@jupyter-widgets/controls",
      "_model_module_version": "1.5.0",
      "_model_name": "HBoxModel",
      "_view_count": null,
      "_view_module": "@jupyter-widgets/controls",
      "_view_module_version": "1.5.0",
      "_view_name": "HBoxView",
      "box_style": "",
      "children": [
       "IPY_MODEL_4fbff100abc24c438a39ca43fffd2b5d",
       "IPY_MODEL_726507f6e52d4df8b3d2d311a1f53b50",
       "IPY_MODEL_937add21221d49e38b4d4b8ecc355d32"
      ],
      "layout": "IPY_MODEL_34c1ff67c5074ff4a85870201ac2dbd1"
     }
    },
    "705fdb4db1184ba88857e2759e38949d": {
     "model_module": "@jupyter-widgets/controls",
     "model_module_version": "1.5.0",
     "model_name": "DescriptionStyleModel",
     "state": {
      "_model_module": "@jupyter-widgets/controls",
      "_model_module_version": "1.5.0",
      "_model_name": "DescriptionStyleModel",
      "_view_count": null,
      "_view_module": "@jupyter-widgets/base",
      "_view_module_version": "1.2.0",
      "_view_name": "StyleView",
      "description_width": ""
     }
    },
    "70cce8ea22b9439cb6f9271e43f328d9": {
     "model_module": "@jupyter-widgets/controls",
     "model_module_version": "1.5.0",
     "model_name": "DescriptionStyleModel",
     "state": {
      "_model_module": "@jupyter-widgets/controls",
      "_model_module_version": "1.5.0",
      "_model_name": "DescriptionStyleModel",
      "_view_count": null,
      "_view_module": "@jupyter-widgets/base",
      "_view_module_version": "1.2.0",
      "_view_name": "StyleView",
      "description_width": ""
     }
    },
    "726507f6e52d4df8b3d2d311a1f53b50": {
     "model_module": "@jupyter-widgets/controls",
     "model_module_version": "1.5.0",
     "model_name": "FloatProgressModel",
     "state": {
      "_dom_classes": [],
      "_model_module": "@jupyter-widgets/controls",
      "_model_module_version": "1.5.0",
      "_model_name": "FloatProgressModel",
      "_view_count": null,
      "_view_module": "@jupyter-widgets/controls",
      "_view_module_version": "1.5.0",
      "_view_name": "ProgressView",
      "bar_style": "success",
      "description": "",
      "description_tooltip": null,
      "layout": "IPY_MODEL_ac17ebb3b5ce4ea09510a1467de39aaa",
      "max": 231508,
      "min": 0,
      "orientation": "horizontal",
      "style": "IPY_MODEL_b47ce11ed8fe4340ac504c13a303d55a",
      "value": 231508
     }
    },
    "747182c3540e488ab2846a5065999b54": {
     "model_module": "@jupyter-widgets/controls",
     "model_module_version": "1.5.0",
     "model_name": "DescriptionStyleModel",
     "state": {
      "_model_module": "@jupyter-widgets/controls",
      "_model_module_version": "1.5.0",
      "_model_name": "DescriptionStyleModel",
      "_view_count": null,
      "_view_module": "@jupyter-widgets/base",
      "_view_module_version": "1.2.0",
      "_view_name": "StyleView",
      "description_width": ""
     }
    },
    "788522216ff74ed3b59dfb8d13b9b60d": {
     "model_module": "@jupyter-widgets/base",
     "model_module_version": "1.2.0",
     "model_name": "LayoutModel",
     "state": {
      "_model_module": "@jupyter-widgets/base",
      "_model_module_version": "1.2.0",
      "_model_name": "LayoutModel",
      "_view_count": null,
      "_view_module": "@jupyter-widgets/base",
      "_view_module_version": "1.2.0",
      "_view_name": "LayoutView",
      "align_content": null,
      "align_items": null,
      "align_self": null,
      "border": null,
      "bottom": null,
      "display": null,
      "flex": null,
      "flex_flow": null,
      "grid_area": null,
      "grid_auto_columns": null,
      "grid_auto_flow": null,
      "grid_auto_rows": null,
      "grid_column": null,
      "grid_gap": null,
      "grid_row": null,
      "grid_template_areas": null,
      "grid_template_columns": null,
      "grid_template_rows": null,
      "height": null,
      "justify_content": null,
      "justify_items": null,
      "left": null,
      "margin": null,
      "max_height": null,
      "max_width": null,
      "min_height": null,
      "min_width": null,
      "object_fit": null,
      "object_position": null,
      "order": null,
      "overflow": null,
      "overflow_x": null,
      "overflow_y": null,
      "padding": null,
      "right": null,
      "top": null,
      "visibility": null,
      "width": null
     }
    },
    "831c693c5b544a8d9e9df5d144e59e3b": {
     "model_module": "@jupyter-widgets/controls",
     "model_module_version": "1.5.0",
     "model_name": "HBoxModel",
     "state": {
      "_dom_classes": [],
      "_model_module": "@jupyter-widgets/controls",
      "_model_module_version": "1.5.0",
      "_model_name": "HBoxModel",
      "_view_count": null,
      "_view_module": "@jupyter-widgets/controls",
      "_view_module_version": "1.5.0",
      "_view_name": "HBoxView",
      "box_style": "",
      "children": [
       "IPY_MODEL_2c51353d88c04cd2b74d81d9e281b0a6",
       "IPY_MODEL_044994e7c2fc4e33976c0b704ddd15ee",
       "IPY_MODEL_d1603a9136494ca7aaeb981a683ba8e8"
      ],
      "layout": "IPY_MODEL_fe4992b22efd4c819784b2e45cc8371d"
     }
    },
    "8fd3f2c6741646dc8256c1730cd77c27": {
     "model_module": "@jupyter-widgets/controls",
     "model_module_version": "1.5.0",
     "model_name": "HTMLModel",
     "state": {
      "_dom_classes": [],
      "_model_module": "@jupyter-widgets/controls",
      "_model_module_version": "1.5.0",
      "_model_name": "HTMLModel",
      "_view_count": null,
      "_view_module": "@jupyter-widgets/controls",
      "_view_module_version": "1.5.0",
      "_view_name": "HTMLView",
      "description": "",
      "description_tooltip": null,
      "layout": "IPY_MODEL_f0ad5fa62a964e678fb66cb64076927f",
      "placeholder": "​",
      "style": "IPY_MODEL_705fdb4db1184ba88857e2759e38949d",
      "value": "Downloading: 100%"
     }
    },
    "937add21221d49e38b4d4b8ecc355d32": {
     "model_module": "@jupyter-widgets/controls",
     "model_module_version": "1.5.0",
     "model_name": "HTMLModel",
     "state": {
      "_dom_classes": [],
      "_model_module": "@jupyter-widgets/controls",
      "_model_module_version": "1.5.0",
      "_model_name": "HTMLModel",
      "_view_count": null,
      "_view_module": "@jupyter-widgets/controls",
      "_view_module_version": "1.5.0",
      "_view_name": "HTMLView",
      "description": "",
      "description_tooltip": null,
      "layout": "IPY_MODEL_581e7edaeb0041f9a9b5791d3eb48af7",
      "placeholder": "​",
      "style": "IPY_MODEL_39ad5bbe521c4050acd64c150bef5f65",
      "value": " 232k/232k [00:00&lt;00:00, 4.94MB/s]"
     }
    },
    "9736f958be654481995e5f5ed3cce5c9": {
     "model_module": "@jupyter-widgets/base",
     "model_module_version": "1.2.0",
     "model_name": "LayoutModel",
     "state": {
      "_model_module": "@jupyter-widgets/base",
      "_model_module_version": "1.2.0",
      "_model_name": "LayoutModel",
      "_view_count": null,
      "_view_module": "@jupyter-widgets/base",
      "_view_module_version": "1.2.0",
      "_view_name": "LayoutView",
      "align_content": null,
      "align_items": null,
      "align_self": null,
      "border": null,
      "bottom": null,
      "display": null,
      "flex": null,
      "flex_flow": null,
      "grid_area": null,
      "grid_auto_columns": null,
      "grid_auto_flow": null,
      "grid_auto_rows": null,
      "grid_column": null,
      "grid_gap": null,
      "grid_row": null,
      "grid_template_areas": null,
      "grid_template_columns": null,
      "grid_template_rows": null,
      "height": null,
      "justify_content": null,
      "justify_items": null,
      "left": null,
      "margin": null,
      "max_height": null,
      "max_width": null,
      "min_height": null,
      "min_width": null,
      "object_fit": null,
      "object_position": null,
      "order": null,
      "overflow": null,
      "overflow_x": null,
      "overflow_y": null,
      "padding": null,
      "right": null,
      "top": null,
      "visibility": null,
      "width": null
     }
    },
    "9b153c6ff1e54fbeb7ed9049ab30abbd": {
     "model_module": "@jupyter-widgets/base",
     "model_module_version": "1.2.0",
     "model_name": "LayoutModel",
     "state": {
      "_model_module": "@jupyter-widgets/base",
      "_model_module_version": "1.2.0",
      "_model_name": "LayoutModel",
      "_view_count": null,
      "_view_module": "@jupyter-widgets/base",
      "_view_module_version": "1.2.0",
      "_view_name": "LayoutView",
      "align_content": null,
      "align_items": null,
      "align_self": null,
      "border": null,
      "bottom": null,
      "display": null,
      "flex": null,
      "flex_flow": null,
      "grid_area": null,
      "grid_auto_columns": null,
      "grid_auto_flow": null,
      "grid_auto_rows": null,
      "grid_column": null,
      "grid_gap": null,
      "grid_row": null,
      "grid_template_areas": null,
      "grid_template_columns": null,
      "grid_template_rows": null,
      "height": null,
      "justify_content": null,
      "justify_items": null,
      "left": null,
      "margin": null,
      "max_height": null,
      "max_width": null,
      "min_height": null,
      "min_width": null,
      "object_fit": null,
      "object_position": null,
      "order": null,
      "overflow": null,
      "overflow_x": null,
      "overflow_y": null,
      "padding": null,
      "right": null,
      "top": null,
      "visibility": null,
      "width": null
     }
    },
    "ac17ebb3b5ce4ea09510a1467de39aaa": {
     "model_module": "@jupyter-widgets/base",
     "model_module_version": "1.2.0",
     "model_name": "LayoutModel",
     "state": {
      "_model_module": "@jupyter-widgets/base",
      "_model_module_version": "1.2.0",
      "_model_name": "LayoutModel",
      "_view_count": null,
      "_view_module": "@jupyter-widgets/base",
      "_view_module_version": "1.2.0",
      "_view_name": "LayoutView",
      "align_content": null,
      "align_items": null,
      "align_self": null,
      "border": null,
      "bottom": null,
      "display": null,
      "flex": null,
      "flex_flow": null,
      "grid_area": null,
      "grid_auto_columns": null,
      "grid_auto_flow": null,
      "grid_auto_rows": null,
      "grid_column": null,
      "grid_gap": null,
      "grid_row": null,
      "grid_template_areas": null,
      "grid_template_columns": null,
      "grid_template_rows": null,
      "height": null,
      "justify_content": null,
      "justify_items": null,
      "left": null,
      "margin": null,
      "max_height": null,
      "max_width": null,
      "min_height": null,
      "min_width": null,
      "object_fit": null,
      "object_position": null,
      "order": null,
      "overflow": null,
      "overflow_x": null,
      "overflow_y": null,
      "padding": null,
      "right": null,
      "top": null,
      "visibility": null,
      "width": null
     }
    },
    "b20127b5f9ba4b6aaa9be214085a4669": {
     "model_module": "@jupyter-widgets/base",
     "model_module_version": "1.2.0",
     "model_name": "LayoutModel",
     "state": {
      "_model_module": "@jupyter-widgets/base",
      "_model_module_version": "1.2.0",
      "_model_name": "LayoutModel",
      "_view_count": null,
      "_view_module": "@jupyter-widgets/base",
      "_view_module_version": "1.2.0",
      "_view_name": "LayoutView",
      "align_content": null,
      "align_items": null,
      "align_self": null,
      "border": null,
      "bottom": null,
      "display": null,
      "flex": null,
      "flex_flow": null,
      "grid_area": null,
      "grid_auto_columns": null,
      "grid_auto_flow": null,
      "grid_auto_rows": null,
      "grid_column": null,
      "grid_gap": null,
      "grid_row": null,
      "grid_template_areas": null,
      "grid_template_columns": null,
      "grid_template_rows": null,
      "height": null,
      "justify_content": null,
      "justify_items": null,
      "left": null,
      "margin": null,
      "max_height": null,
      "max_width": null,
      "min_height": null,
      "min_width": null,
      "object_fit": null,
      "object_position": null,
      "order": null,
      "overflow": null,
      "overflow_x": null,
      "overflow_y": null,
      "padding": null,
      "right": null,
      "top": null,
      "visibility": null,
      "width": null
     }
    },
    "b47ce11ed8fe4340ac504c13a303d55a": {
     "model_module": "@jupyter-widgets/controls",
     "model_module_version": "1.5.0",
     "model_name": "ProgressStyleModel",
     "state": {
      "_model_module": "@jupyter-widgets/controls",
      "_model_module_version": "1.5.0",
      "_model_name": "ProgressStyleModel",
      "_view_count": null,
      "_view_module": "@jupyter-widgets/base",
      "_view_module_version": "1.2.0",
      "_view_name": "StyleView",
      "bar_color": null,
      "description_width": ""
     }
    },
    "bd1bf1e4b1eb4c22896d823e30947afc": {
     "model_module": "@jupyter-widgets/controls",
     "model_module_version": "1.5.0",
     "model_name": "HTMLModel",
     "state": {
      "_dom_classes": [],
      "_model_module": "@jupyter-widgets/controls",
      "_model_module_version": "1.5.0",
      "_model_name": "HTMLModel",
      "_view_count": null,
      "_view_module": "@jupyter-widgets/controls",
      "_view_module_version": "1.5.0",
      "_view_name": "HTMLView",
      "description": "",
      "description_tooltip": null,
      "layout": "IPY_MODEL_35297d94b8464014b46466f90eb76101",
      "placeholder": "​",
      "style": "IPY_MODEL_70cce8ea22b9439cb6f9271e43f328d9",
      "value": " 466k/466k [00:00&lt;00:00, 6.84MB/s]"
     }
    },
    "c450f6caa5e846649e018e0ecdfe62f7": {
     "model_module": "@jupyter-widgets/base",
     "model_module_version": "1.2.0",
     "model_name": "LayoutModel",
     "state": {
      "_model_module": "@jupyter-widgets/base",
      "_model_module_version": "1.2.0",
      "_model_name": "LayoutModel",
      "_view_count": null,
      "_view_module": "@jupyter-widgets/base",
      "_view_module_version": "1.2.0",
      "_view_name": "LayoutView",
      "align_content": null,
      "align_items": null,
      "align_self": null,
      "border": null,
      "bottom": null,
      "display": null,
      "flex": null,
      "flex_flow": null,
      "grid_area": null,
      "grid_auto_columns": null,
      "grid_auto_flow": null,
      "grid_auto_rows": null,
      "grid_column": null,
      "grid_gap": null,
      "grid_row": null,
      "grid_template_areas": null,
      "grid_template_columns": null,
      "grid_template_rows": null,
      "height": null,
      "justify_content": null,
      "justify_items": null,
      "left": null,
      "margin": null,
      "max_height": null,
      "max_width": null,
      "min_height": null,
      "min_width": null,
      "object_fit": null,
      "object_position": null,
      "order": null,
      "overflow": null,
      "overflow_x": null,
      "overflow_y": null,
      "padding": null,
      "right": null,
      "top": null,
      "visibility": null,
      "width": null
     }
    },
    "c80545cfc3d54fabad2789d3345fea86": {
     "model_module": "@jupyter-widgets/controls",
     "model_module_version": "1.5.0",
     "model_name": "HTMLModel",
     "state": {
      "_dom_classes": [],
      "_model_module": "@jupyter-widgets/controls",
      "_model_module_version": "1.5.0",
      "_model_name": "HTMLModel",
      "_view_count": null,
      "_view_module": "@jupyter-widgets/controls",
      "_view_module_version": "1.5.0",
      "_view_name": "HTMLView",
      "description": "",
      "description_tooltip": null,
      "layout": "IPY_MODEL_67423aa579664729b1fcd74ac28c46cd",
      "placeholder": "​",
      "style": "IPY_MODEL_5fda3b97d9fb4addb883d17e94ddfc35",
      "value": " 28.0/28.0 [00:00&lt;00:00, 881B/s]"
     }
    },
    "d1603a9136494ca7aaeb981a683ba8e8": {
     "model_module": "@jupyter-widgets/controls",
     "model_module_version": "1.5.0",
     "model_name": "HTMLModel",
     "state": {
      "_dom_classes": [],
      "_model_module": "@jupyter-widgets/controls",
      "_model_module_version": "1.5.0",
      "_model_name": "HTMLModel",
      "_view_count": null,
      "_view_module": "@jupyter-widgets/controls",
      "_view_module_version": "1.5.0",
      "_view_name": "HTMLView",
      "description": "",
      "description_tooltip": null,
      "layout": "IPY_MODEL_023b587e0b6e41e5b6243dbc1882299f",
      "placeholder": "​",
      "style": "IPY_MODEL_747182c3540e488ab2846a5065999b54",
      "value": " 483/483 [00:00&lt;00:00, 11.2kB/s]"
     }
    },
    "d482ff4579f34230b3d1d22a1c2e5616": {
     "model_module": "@jupyter-widgets/controls",
     "model_module_version": "1.5.0",
     "model_name": "DescriptionStyleModel",
     "state": {
      "_model_module": "@jupyter-widgets/controls",
      "_model_module_version": "1.5.0",
      "_model_name": "DescriptionStyleModel",
      "_view_count": null,
      "_view_module": "@jupyter-widgets/base",
      "_view_module_version": "1.2.0",
      "_view_name": "StyleView",
      "description_width": ""
     }
    },
    "dedead2a3d094ad1b8b65101f761e360": {
     "model_module": "@jupyter-widgets/base",
     "model_module_version": "1.2.0",
     "model_name": "LayoutModel",
     "state": {
      "_model_module": "@jupyter-widgets/base",
      "_model_module_version": "1.2.0",
      "_model_name": "LayoutModel",
      "_view_count": null,
      "_view_module": "@jupyter-widgets/base",
      "_view_module_version": "1.2.0",
      "_view_name": "LayoutView",
      "align_content": null,
      "align_items": null,
      "align_self": null,
      "border": null,
      "bottom": null,
      "display": null,
      "flex": null,
      "flex_flow": null,
      "grid_area": null,
      "grid_auto_columns": null,
      "grid_auto_flow": null,
      "grid_auto_rows": null,
      "grid_column": null,
      "grid_gap": null,
      "grid_row": null,
      "grid_template_areas": null,
      "grid_template_columns": null,
      "grid_template_rows": null,
      "height": null,
      "justify_content": null,
      "justify_items": null,
      "left": null,
      "margin": null,
      "max_height": null,
      "max_width": null,
      "min_height": null,
      "min_width": null,
      "object_fit": null,
      "object_position": null,
      "order": null,
      "overflow": null,
      "overflow_x": null,
      "overflow_y": null,
      "padding": null,
      "right": null,
      "top": null,
      "visibility": null,
      "width": null
     }
    },
    "e13c19242fd64b088aa69056ed2d6ae8": {
     "model_module": "@jupyter-widgets/controls",
     "model_module_version": "1.5.0",
     "model_name": "ProgressStyleModel",
     "state": {
      "_model_module": "@jupyter-widgets/controls",
      "_model_module_version": "1.5.0",
      "_model_name": "ProgressStyleModel",
      "_view_count": null,
      "_view_module": "@jupyter-widgets/base",
      "_view_module_version": "1.2.0",
      "_view_name": "StyleView",
      "bar_color": null,
      "description_width": ""
     }
    },
    "eb566fdb19914459bd9f6a549fca8877": {
     "model_module": "@jupyter-widgets/controls",
     "model_module_version": "1.5.0",
     "model_name": "HTMLModel",
     "state": {
      "_dom_classes": [],
      "_model_module": "@jupyter-widgets/controls",
      "_model_module_version": "1.5.0",
      "_model_name": "HTMLModel",
      "_view_count": null,
      "_view_module": "@jupyter-widgets/controls",
      "_view_module_version": "1.5.0",
      "_view_name": "HTMLView",
      "description": "",
      "description_tooltip": null,
      "layout": "IPY_MODEL_26fbc91dadb24681a7fcfcf99de356dc",
      "placeholder": "​",
      "style": "IPY_MODEL_d482ff4579f34230b3d1d22a1c2e5616",
      "value": "Downloading: 100%"
     }
    },
    "edd53cf025d9451686afb69ad316ff8e": {
     "model_module": "@jupyter-widgets/controls",
     "model_module_version": "1.5.0",
     "model_name": "DescriptionStyleModel",
     "state": {
      "_model_module": "@jupyter-widgets/controls",
      "_model_module_version": "1.5.0",
      "_model_name": "DescriptionStyleModel",
      "_view_count": null,
      "_view_module": "@jupyter-widgets/base",
      "_view_module_version": "1.2.0",
      "_view_name": "StyleView",
      "description_width": ""
     }
    },
    "f0ad5fa62a964e678fb66cb64076927f": {
     "model_module": "@jupyter-widgets/base",
     "model_module_version": "1.2.0",
     "model_name": "LayoutModel",
     "state": {
      "_model_module": "@jupyter-widgets/base",
      "_model_module_version": "1.2.0",
      "_model_name": "LayoutModel",
      "_view_count": null,
      "_view_module": "@jupyter-widgets/base",
      "_view_module_version": "1.2.0",
      "_view_name": "LayoutView",
      "align_content": null,
      "align_items": null,
      "align_self": null,
      "border": null,
      "bottom": null,
      "display": null,
      "flex": null,
      "flex_flow": null,
      "grid_area": null,
      "grid_auto_columns": null,
      "grid_auto_flow": null,
      "grid_auto_rows": null,
      "grid_column": null,
      "grid_gap": null,
      "grid_row": null,
      "grid_template_areas": null,
      "grid_template_columns": null,
      "grid_template_rows": null,
      "height": null,
      "justify_content": null,
      "justify_items": null,
      "left": null,
      "margin": null,
      "max_height": null,
      "max_width": null,
      "min_height": null,
      "min_width": null,
      "object_fit": null,
      "object_position": null,
      "order": null,
      "overflow": null,
      "overflow_x": null,
      "overflow_y": null,
      "padding": null,
      "right": null,
      "top": null,
      "visibility": null,
      "width": null
     }
    },
    "fe4992b22efd4c819784b2e45cc8371d": {
     "model_module": "@jupyter-widgets/base",
     "model_module_version": "1.2.0",
     "model_name": "LayoutModel",
     "state": {
      "_model_module": "@jupyter-widgets/base",
      "_model_module_version": "1.2.0",
      "_model_name": "LayoutModel",
      "_view_count": null,
      "_view_module": "@jupyter-widgets/base",
      "_view_module_version": "1.2.0",
      "_view_name": "LayoutView",
      "align_content": null,
      "align_items": null,
      "align_self": null,
      "border": null,
      "bottom": null,
      "display": null,
      "flex": null,
      "flex_flow": null,
      "grid_area": null,
      "grid_auto_columns": null,
      "grid_auto_flow": null,
      "grid_auto_rows": null,
      "grid_column": null,
      "grid_gap": null,
      "grid_row": null,
      "grid_template_areas": null,
      "grid_template_columns": null,
      "grid_template_rows": null,
      "height": null,
      "justify_content": null,
      "justify_items": null,
      "left": null,
      "margin": null,
      "max_height": null,
      "max_width": null,
      "min_height": null,
      "min_width": null,
      "object_fit": null,
      "object_position": null,
      "order": null,
      "overflow": null,
      "overflow_x": null,
      "overflow_y": null,
      "padding": null,
      "right": null,
      "top": null,
      "visibility": null,
      "width": null
     }
    }
   }
  }
 },
 "nbformat": 4,
 "nbformat_minor": 4
}
